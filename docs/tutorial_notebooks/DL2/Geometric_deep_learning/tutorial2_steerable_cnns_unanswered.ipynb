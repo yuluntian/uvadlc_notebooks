{
 "cells": [
  {
   "cell_type": "markdown",
   "metadata": {
    "collapsed": true,
    "id": "1GrTyqmLcQLM",
    "jupyter": {
     "outputs_hidden": true
    }
   },
   "source": [
    "# GDL - Steerable CNNs\n",
    "\n",
    "**Filled notebook:** \n",
    "[![View on Github](https://img.shields.io/static/v1.svg?logo=github&label=Repo&message=View%20On%20Github&color=lightgrey)](https://github.com/phlippe/uvadlc_notebooks/blob/master/docs/tutorial_notebooks/DL2/Geometric_deep_learning/tutorial2_steerable_cnns.ipynb)\n",
    "[![Open In Collab](https://colab.research.google.com/assets/colab-badge.svg)](https://colab.research.google.com/github/phlippe/uvadlc_notebooks/blob/master/docs/tutorial_notebooks/DL2/Geometric_deep_learning/tutorial2_steerable_cnns.ipynb)  \n",
    "**Empty notebook:** \n",
    "[![View on Github Unanswered](https://img.shields.io/static/v1.svg?logo=github&label=Repo&message=View%20On%20Github&color=lightgrey)](https://github.com/phlippe/uvadlc_notebooks/blob/master/docs/tutorial_notebooks/DL2/Geometric_deep_learning/tutorial2_steerable_cnns_unanswered.ipynb)\n",
    "[![Open In Collab Unanswered](https://colab.research.google.com/assets/colab-badge.svg)](https://colab.research.google.com/github/phlippe/uvadlc_notebooks/blob/master/docs/tutorial_notebooks/DL2/Geometric_deep_learning/tutorial2_steerable_cnns_unanswered.ipynb)  \n",
    "**Authors:** Gabriele Cesa\n"
   ]
  },
  {
   "cell_type": "markdown",
   "metadata": {
    "id": "WfCFymZvcQLS"
   },
   "source": [
    "During the lectures, you have learnt that the symmetries of a machine learning task can be modelled with **groups**.\n",
    "In the previous tutorial, you have also studied the framework of *Group-Convolutional Neural Networks* (**GCNNs**), which describes a neural architecture design equivariant to general groups.\n",
    "\n",
    "The feature maps of a GCNN are functions over the elements of the group.\n",
    "A naive implementation of group-convolution requires computing and storing a response for each group element.\n",
    "For this reason, the GCNN framework is not particularly convenient to implement networks equivariant to groups with infinite elements.\n",
    "\n",
    "Steerable CNNs are a more general framework which solves this issue.\n",
    "The key idea is that, instead of storing the value of a feature map on each group element, the model stores the *Fourier transform* of this feature map, up to a finite number of frequencies.\n",
    "\n",
    "In this tutorial, we will first introduce some Representation theory and Fourier theory (*non-commutative harmonic analysis*) and, then, we will explore how this idea is used in practice to implement Steerable CNNs."
   ]
  },
  {
   "cell_type": "markdown",
   "metadata": {
    "id": "RbSmJU4LcQLT"
   },
   "source": [
    "## Prerequisite Knowledge\n",
    "Throughout this tutorial, we will assume you are already familiar with some concepts of **group theory**, such as *groups*, *group actions* (in particular *on functions*), *semi-direct product* and *order of a group*, as well as basic **linear algebra**."
   ]
  },
  {
   "cell_type": "markdown",
   "metadata": {
    "id": "4qriE3g7cQLP"
   },
   "source": [
    "We start by importing the necessary packages.\n",
    "You can run the following command to install all the requirements:\n",
    "\n",
    "`> pip install torch torchvision numpy matplotlib git+https://github.com/AMLab-Amsterdam/lie_learn escnn scipy`"
   ]
  },
  {
   "cell_type": "code",
   "execution_count": 2,
   "metadata": {
    "colab": {
     "base_uri": "https://localhost:8080/"
    },
    "id": "0DeUGG1ycQLQ",
    "outputId": "e7f72cca-bb3b-4226-b681-f30b1db7d9e9"
   },
   "outputs": [
    {
     "name": "stderr",
     "output_type": "stream",
     "text": [
      "/tmp/ipykernel_2810403/1932627903.py:13: DeprecationWarning: `set_matplotlib_formats` is deprecated since IPython 7.23, directly use `matplotlib_inline.backend_inline.set_matplotlib_formats()`\n",
      "  set_matplotlib_formats('svg', 'pdf') # For export\n"
     ]
    }
   ],
   "source": [
    "import torch\n",
    "import numpy as np\n",
    "import scipy\n",
    "import os\n",
    "\n",
    "np.set_printoptions(precision=3, suppress=True, linewidth=10000, threshold=100000)\n",
    "\n",
    "import matplotlib\n",
    "%matplotlib inline\n",
    "import matplotlib.pyplot as plt\n",
    "# If the fonts in the plots are incorrectly rendered, comment out the next two lines\n",
    "from IPython.display import set_matplotlib_formats\n",
    "set_matplotlib_formats('svg', 'pdf') # For export\n",
    "matplotlib.rcParams['lines.linewidth'] = 2.0\n",
    "\n",
    "import urllib.request\n",
    "from urllib.error import HTTPError\n",
    "\n",
    "CHECKPOINT_PATH = \"../../saved_models/DL2/GDL\""
   ]
  },
  {
   "cell_type": "code",
   "execution_count": 3,
   "metadata": {},
   "outputs": [
    {
     "name": "stdout",
     "output_type": "stream",
     "text": [
      "Downloading https://raw.githubusercontent.com/phlippe/saved_models/main/DL2/GDL/steerable_c4-pretrained.ckpt...\n",
      "Downloading https://raw.githubusercontent.com/phlippe/saved_models/main/DL2/GDL/steerable_so2-pretrained.ckpt...\n",
      "Downloading https://raw.githubusercontent.com/phlippe/saved_models/main/DL2/GDL/steerable_c4-accuracies.npy...\n",
      "Downloading https://raw.githubusercontent.com/phlippe/saved_models/main/DL2/GDL/steerable_so2-accuracies.npy...\n"
     ]
    }
   ],
   "source": [
    "# Create checkpoint path if it doesn't exist yet\n",
    "os.makedirs(CHECKPOINT_PATH, exist_ok=True)\n",
    "\n",
    "\n",
    "# Files to download\n",
    "pretrained_files = [\n",
    "    \"steerable_c4-pretrained.ckpt\",\n",
    "    \"steerable_so2-pretrained.ckpt\",\n",
    "    \"steerable_c4-accuracies.npy\",\n",
    "    \"steerable_so2-accuracies.npy\",\n",
    "]\n",
    "\n",
    "# Github URL where saved models are stored for this tutorial\n",
    "base_url = \"https://raw.githubusercontent.com/phlippe/saved_models/main/DL2/GDL/\"\n",
    "\n",
    "# For each file, check whether it already exists. If not, try downloading it.\n",
    "for file_name in pretrained_files:\n",
    "    file_path = os.path.join(CHECKPOINT_PATH, file_name)\n",
    "    if not os.path.isfile(file_path):\n",
    "        file_url = base_url + file_name\n",
    "        print(f\"Downloading {file_url}...\")\n",
    "        try:\n",
    "            urllib.request.urlretrieve(file_url, file_path)\n",
    "        except HTTPError as e:\n",
    "            print(\"Something went wrong. Please contact the author with the full output including the following error:\\n\", e)"
   ]
  },
  {
   "cell_type": "markdown",
   "metadata": {
    "id": "YajlOyducQLT"
   },
   "source": [
    "## 1. Representation Theory and Harmonic Analysis of Compact Groups"
   ]
  },
  {
   "cell_type": "markdown",
   "metadata": {
    "id": "aXn7VD9hcQLU"
   },
   "source": [
    "We will make use of the `escnn` [library](https://github.com/QUVA-Lab/escnn) throughout this tutorial.\n",
    "You can also find its documentation [here](https://quva-lab.github.io/escnn/)."
   ]
  },
  {
   "cell_type": "code",
   "execution_count": 5,
   "metadata": {},
   "outputs": [],
   "source": [
    "# from escnn.group import *"
   ]
  },
  {
   "cell_type": "code",
   "execution_count": 6,
   "metadata": {
    "id": "RLFz1jngcQLV"
   },
   "outputs": [],
   "source": [
    "try:\n",
    "    from escnn.group import *\n",
    "except ModuleNotFoundError: # Google Colab does not have escnn installed by default. Hence, we do it here if necessary\n",
    "    !pip install --quiet git+https://github.com/AMLab-Amsterdam/lie_learn escnn\n",
    "    from escnn.group import *"
   ]
  },
  {
   "cell_type": "markdown",
   "metadata": {
    "id": "XC9uzWK9cQLV"
   },
   "source": [
    "First, let's create a group.\n",
    "We will use the *Cyclic Group* $G=C_8$ as an example.\n",
    "This group contains the $8$ planar rotations by multiples of $\\frac{2\\pi}{8}$.\n",
    "In `escnn`, a groups are instances of the abstract class `escnn.group.Group`, which provides some useful functionalities.\n",
    "We instantiate groups via a *factory method*.\n",
    "To build the cyclic group of order $8$, we use this factory method:"
   ]
  },
  {
   "cell_type": "code",
   "execution_count": 7,
   "metadata": {
    "id": "VADpbshZcQLW"
   },
   "outputs": [
    {
     "data": {
      "text/plain": [
       "8"
      ]
     },
     "execution_count": 7,
     "metadata": {},
     "output_type": "execute_result"
    }
   ],
   "source": [
    "G = cyclic_group(N=8)\n",
    "\n",
    "# We can verify that the order of this group is 8:\n",
    "G.order()"
   ]
  },
  {
   "cell_type": "markdown",
   "metadata": {
    "id": "Rcc8utD-cQLY"
   },
   "source": [
    "A group is a collection of group elements together with a binary operation to combine them.\n",
    "This is implemented in the class `escnn.group.GroupElement`.\n",
    "We can access the *identity* element $e \\in G$ as"
   ]
  },
  {
   "cell_type": "code",
   "execution_count": 8,
   "metadata": {
    "colab": {
     "base_uri": "https://localhost:8080/"
    },
    "id": "IOb24vqTcQLY",
    "outputId": "2e72acb6-75a6-4b80-c14c-d611862c2780"
   },
   "outputs": [
    {
     "data": {
      "text/plain": [
       "0[2pi/8]"
      ]
     },
     "execution_count": 8,
     "metadata": {},
     "output_type": "execute_result"
    }
   ],
   "source": [
    "G.identity"
   ]
  },
  {
   "cell_type": "markdown",
   "metadata": {
    "id": "6carpwC_cQLY"
   },
   "source": [
    "or sample a random element as"
   ]
  },
  {
   "cell_type": "code",
   "execution_count": 9,
   "metadata": {
    "colab": {
     "base_uri": "https://localhost:8080/"
    },
    "id": "GuCA2K3mcQLZ",
    "outputId": "7015660e-6c61-4ba9-9dc7-8023424371bf"
   },
   "outputs": [
    {
     "data": {
      "text/plain": [
       "7[2pi/8]"
      ]
     },
     "execution_count": 9,
     "metadata": {},
     "output_type": "execute_result"
    }
   ],
   "source": [
    "G.sample()"
   ]
  },
  {
   "cell_type": "markdown",
   "metadata": {
    "id": "fgsIZ5iOcQLZ"
   },
   "source": [
    "Group elements can be combined via the binary operator `@`; we can also take the inverse of an element using `~`:"
   ]
  },
  {
   "cell_type": "code",
   "execution_count": 10,
   "metadata": {
    "colab": {
     "base_uri": "https://localhost:8080/"
    },
    "id": "ePYpcV2hcQLZ",
    "outputId": "7031e4cc-07ea-4cc7-e4f1-78dd3d7a274d"
   },
   "outputs": [
    {
     "name": "stdout",
     "output_type": "stream",
     "text": [
      "7[2pi/8]\n",
      "4[2pi/8]\n",
      "3[2pi/8]\n",
      "1[2pi/8]\n"
     ]
    }
   ],
   "source": [
    "a = G.sample()\n",
    "b = G.sample()\n",
    "print(a)\n",
    "print(b)\n",
    "print(a @ b)\n",
    "print(~a)"
   ]
  },
  {
   "cell_type": "markdown",
   "metadata": {
    "id": "r_7H2r85cQLa"
   },
   "source": [
    "Representation theory is a fundamental element in Steerable CNNs and to construct a Fourier theory over groups.\n",
    "In this first section, we will introduce the essential concepts."
   ]
  },
  {
   "cell_type": "markdown",
   "metadata": {
    "id": "GAbvGihgcQLa"
   },
   "source": [
    "### 1.1 Group Representation\n",
    "\n",
    "A **linear group representation** $\\rho$ of a compact group $G$ on a vector space (called *representation space*) $\\mathbb{R}^d$ is a *group homomorphism* from $G$ to the general linear group $GL(\\mathbb{R}^d)$, i.e. it is a map $\\rho : G \\to \\mathbb{R}^{d \\times d}$ such that:\n",
    "$$\\rho(g_1 g_2) = \\rho(g1) \\rho(g2) \\quad \\forall g_1,g_2 \\in G \\ .$$\n",
    "\n",
    "In other words, $\\rho(g)$ is a $d \\times d$ *invertible* matrix.\n",
    "We refer to $d$ as the *size* of the representation."
   ]
  },
  {
   "cell_type": "markdown",
   "metadata": {
    "id": "8dja71IKcQLb"
   },
   "source": [
    "#### Example: the Trivial Representation\n",
    "The simplest example of *group representation* is the **trivial representation** which maps every element to $1 \\in \\mathbb{R}$, i.e. $\\rho: g \\mapsto 1$.\n",
    "One can verify that it satisfies the condition above.\n",
    "We can construct this representation as follows:"
   ]
  },
  {
   "cell_type": "code",
   "execution_count": 11,
   "metadata": {
    "id": "r0EUX2NPcQLb"
   },
   "outputs": [],
   "source": [
    "rho = G.trivial_representation"
   ]
  },
  {
   "cell_type": "markdown",
   "metadata": {
    "id": "Ls4_jiufcQLb"
   },
   "source": [
    "`rho` is an instance of `escnn.group.Representation`. This class provides some functionalities to work with group representations. We can also use it as a callable function to compute the representation of a group element; this will return a squared matrix as a `numpy.array`.\n",
    "Let verify that the trivial representation does indeed verify the condition above:"
   ]
  },
  {
   "cell_type": "code",
   "execution_count": 12,
   "metadata": {
    "colab": {
     "base_uri": "https://localhost:8080/"
    },
    "id": "t8Ub_tjUcQLb",
    "outputId": "2b66b62b-ad2e-4ee2-c41e-f2b41dc1cd0f"
   },
   "outputs": [
    {
     "name": "stdout",
     "output_type": "stream",
     "text": [
      "[[1.]]\n",
      "[[1.]]\n"
     ]
    }
   ],
   "source": [
    "g1 = G.sample()\n",
    "g2 = G.sample()\n",
    "print(rho(g1) @ rho(g2))\n",
    "print(rho(g1 @ g2))"
   ]
  },
  {
   "cell_type": "markdown",
   "metadata": {
    "id": "Cg53mBIkcQLc"
   },
   "source": [
    "Note that the trivial representation has size $1$:"
   ]
  },
  {
   "cell_type": "code",
   "execution_count": 13,
   "metadata": {
    "colab": {
     "base_uri": "https://localhost:8080/"
    },
    "id": "f2AqadBpcQLc",
    "outputId": "771d8636-b40a-4cf6-ecbf-f63e1e3d99ff"
   },
   "outputs": [
    {
     "data": {
      "text/plain": [
       "1"
      ]
     },
     "execution_count": 13,
     "metadata": {},
     "output_type": "execute_result"
    }
   ],
   "source": [
    "rho.size"
   ]
  },
  {
   "cell_type": "markdown",
   "metadata": {
    "id": "YaV4gjdpcQLc"
   },
   "source": [
    "#### Example: rotations\n",
    "\n",
    "Another common example of group representations is given by 2D rotations.\n",
    "Let $SO(2)$ be the group of all planar rotations; note that we can identify each rotation by an angle $\\theta \\in [0, 2\\pi)$.\n",
    "Then, the standard representation of planar rotations as $2\\times 2$ rotation matrices is a representation of $SO(2)$:\n",
    "\n",
    "$$\n",
    "    \\rho: r_{\\theta} \\mapsto \\begin{bmatrix} \\cos(\\theta) & -\\sin(\\theta) \\\\ \\sin(\\theta) & \\cos(\\theta) \\end{bmatrix}\n",
    "$$\n",
    "\n",
    "where $r_\\theta \\in SO(2)$ is a counter-clockwise rotation by $\\theta$.\n",
    "Let's try to build this group and, then, verify that this is a representation:"
   ]
  },
  {
   "cell_type": "code",
   "execution_count": 14,
   "metadata": {
    "colab": {
     "base_uri": "https://localhost:8080/"
    },
    "id": "ZJpxDUGacQLd",
    "outputId": "3f46f3ab-7a96-4fb9-8056-780328015d64"
   },
   "outputs": [
    {
     "name": "stdout",
     "output_type": "stream",
     "text": [
      "g1=4.939728815217324, g2=3.7490200454855875, g1 * g2 = 2.4055635535233257\n",
      "\n",
      "rho(g1) @ rho(g2)\n",
      "[[-0.741 -0.671]\n",
      " [ 0.671 -0.741]]\n",
      "\n",
      "rho(g1 * g2)\n",
      "[[-0.741 -0.671]\n",
      " [ 0.671 -0.741]]\n"
     ]
    }
   ],
   "source": [
    "G = so2_group()\n",
    "rho = G.standard_representation()\n",
    "\n",
    "g1 = G.sample()\n",
    "g2 = G.sample()\n",
    "print(f'g1={g1}, g2={g2}, g1 * g2 = {g1 @ g2}')\n",
    "print()\n",
    "print('rho(g1) @ rho(g2)')\n",
    "print(rho(g1) @ rho(g2))\n",
    "print()\n",
    "print('rho(g1 * g2)')\n",
    "print(rho(g1 @ g2))"
   ]
  },
  {
   "cell_type": "markdown",
   "metadata": {
    "id": "nwjnsXvngH56"
   },
   "source": [
    "---\n",
    "\n",
    "#### QUESTION 1\n",
    "Show that any representation $\\rho: G \\to \\mathbb{R}^{d \\times d}$ also satisfies the following two properties:\n",
    "\n",
    "- let $e \\in G$ be the identity element. Then, $\\rho(e)$ is the identity matrix of size $d$.\n",
    "\n",
    "- let $g \\in G$ and $g^{-1}$ be its inverse (i.e. $g \\cdot g^{-1} = e$). Then, $\\rho(g^{-1}) = \\rho(g)^{-1}$.\n",
    "\n",
    "\n",
    "#### ANSWER 1\n",
    "\n",
    "\n",
    "---"
   ]
  },
  {
   "cell_type": "markdown",
   "metadata": {
    "id": "xT8HQUFGcQLd"
   },
   "source": [
    "#### Direct Sum\n",
    "We can combine representations to build a larger representation via the **direct sum**.\n",
    "\n",
    "Given representations $\\rho_1 : G \\to \\mathbb{R}^{d_1 \\times d_1}$ and $\\rho_2 : G \\to \\mathbb{R}^{d_2 \\times d_2}$, their *direct sum* $\\rho_1 \\oplus \\rho_2: G \\to \\mathbb{R}^{(d_1 + d_2) \\times (d_1 + d_2)}$ is defined as \n",
    "\n",
    "$$\n",
    "    (\\rho_1 \\oplus \\rho_2)(g) = \\begin{bmatrix}\\rho_1(g) & 0 \\\\ 0 & \\rho_2(g) \\end{bmatrix} \n",
    "$$\n",
    "\n",
    "Its action is therefore given by the independent actions of $\\rho_1$ and $\\rho_2$ on the orthogonal subspaces $\\mathbb{R}^{d_1}$ and $\\mathbb{R}^{d_2}$  of $\\mathbb{R}^{d_1 + d_2}$.\n",
    "\n",
    "Let's see an example:"
   ]
  },
  {
   "cell_type": "code",
   "execution_count": 15,
   "metadata": {
    "colab": {
     "base_uri": "https://localhost:8080/"
    },
    "id": "3bKiV8VMcQLd",
    "outputId": "8865e8f6-853f-477b-c066-36257934a22e"
   },
   "outputs": [
    {
     "name": "stdout",
     "output_type": "stream",
     "text": [
      "[[-0.888 -0.459]\n",
      " [ 0.459 -0.888]]\n",
      "\n",
      "[[-0.888 -0.459  0.     0.   ]\n",
      " [ 0.459 -0.888  0.     0.   ]\n",
      " [ 0.     0.    -0.888 -0.459]\n",
      " [ 0.     0.     0.459 -0.888]]\n"
     ]
    }
   ],
   "source": [
    "rho_sum = rho + rho\n",
    "\n",
    "g = G.sample()\n",
    "print(rho(g))\n",
    "print()\n",
    "print(rho_sum(g))"
   ]
  },
  {
   "cell_type": "markdown",
   "metadata": {
    "id": "klWR11lpcQLe"
   },
   "source": [
    "Note that the direct sum of two representations has size equal to the sum of their sizes:"
   ]
  },
  {
   "cell_type": "code",
   "execution_count": 16,
   "metadata": {
    "colab": {
     "base_uri": "https://localhost:8080/"
    },
    "id": "SoDMk5gdcQLe",
    "outputId": "5029e93a-64fd-4bb9-a90a-f66aae40d698"
   },
   "outputs": [
    {
     "data": {
      "text/plain": [
       "(2, 4)"
      ]
     },
     "execution_count": 16,
     "metadata": {},
     "output_type": "execute_result"
    }
   ],
   "source": [
    "rho.size, rho_sum.size"
   ]
  },
  {
   "cell_type": "markdown",
   "metadata": {
    "id": "jhe9hZ_zcQLe"
   },
   "source": [
    "We can combine arbitrary many representations in this way, e.g. $\\rho \\oplus \\rho \\oplus \\rho \\oplus \\rho$:"
   ]
  },
  {
   "cell_type": "code",
   "execution_count": 17,
   "metadata": {
    "colab": {
     "base_uri": "https://localhost:8080/"
    },
    "id": "f5w0GppScQLe",
    "outputId": "c380a8ae-e561-4ae0-e3cc-02ac197d8d47"
   },
   "outputs": [
    {
     "data": {
      "text/plain": [
       "8"
      ]
     },
     "execution_count": 17,
     "metadata": {},
     "output_type": "execute_result"
    }
   ],
   "source": [
    "rho_sum = rho + rho + rho + rho\n",
    "\n",
    "# or, more simply:\n",
    "rho_sum = directsum([rho, rho, rho, rho])\n",
    "rho_sum.size"
   ]
  },
  {
   "cell_type": "markdown",
   "metadata": {
    "id": "JNMR5pQGcQLf"
   },
   "source": [
    "#### The Regular Representation\n",
    "\n",
    "Another important representation is the **regular representation**.\n",
    "The regular representation describes the action of a group $G$ on the vector space of functions over the group $G$.\n",
    "Assume for the moment that the group $G$ is *finite*, i.e. $|G| < \\infty$.\n",
    "\n",
    "The set of functions over $G$ is equivalent to the vector space $\\mathbb{R}^{|G|}$.\n",
    "We can indeed interpret a vector $\\mathbf{f} \\in \\mathbb{R}^{|G|}$ as a function over $G$, where the $i$-th entry of $\\mathbf{f}$ is interpreted as the value of the function on the $i$-th element $g_i \\in G$.\n",
    "\n",
    "The **regular representation** of $G$ is a $|G|$ dimensional representation.\n",
    "Recall the left action of $G$ on a function $f: G \\to \\mathbb{R}$:\n",
    "\n",
    "$$ \n",
    "[g.f](h) := f(g^{-1} h)\n",
    "$$\n",
    "\n",
    "The new function $g.f$ is still a function over $G$ and belongs to the same vector space.\n",
    "If we represent the function $f$ as a vector $\\mathbf{f}$, the vector representing the function $g.f$ will have permuted entries with respect to $\\mathbf{f}$.\n",
    "This permutation is the regular representation of $g \\in G$."
   ]
  },
  {
   "cell_type": "markdown",
   "metadata": {
    "id": "C9JtxVcgcQLf"
   },
   "source": [
    "---\n",
    "\n",
    "#### QUESTION 2\n",
    "Show that the space of functions over $G$ is a vector space.\n",
    "To do so, show that functions satisfy the properties of a vector space; see [here](https://en.wikipedia.org/wiki/Vector_space#Notation_and_definition).\n",
    "\n",
    "#### ANSWER 2\n",
    "\n",
    "\n",
    "\n",
    "---"
   ]
  },
  {
   "cell_type": "markdown",
   "metadata": {
    "id": "oStwiCwNcQLf"
   },
   "source": [
    "For finite groups, we can generate this representation.\n",
    "We assume that the $i$-th entry is associated with the element of $G=C_8$ corresponing to a rotation by $i \\frac{2\\pi}{8}$."
   ]
  },
  {
   "cell_type": "code",
   "execution_count": 18,
   "metadata": {
    "id": "URb5ggAXcQLf"
   },
   "outputs": [],
   "source": [
    "G = cyclic_group(8)\n",
    "rho = G.regular_representation"
   ]
  },
  {
   "cell_type": "code",
   "execution_count": 21,
   "metadata": {
    "colab": {
     "base_uri": "https://localhost:8080/"
    },
    "id": "QrBDn90GcQLg",
    "outputId": "1523946e-b39b-4b76-87ad-9d4200f02172"
   },
   "outputs": [
    {
     "data": {
      "text/plain": [
       "8"
      ]
     },
     "execution_count": 21,
     "metadata": {},
     "output_type": "execute_result"
    }
   ],
   "source": [
    "# note that the size of the representation is equal to the group's order |G|\n",
    "rho.size"
   ]
  },
  {
   "cell_type": "markdown",
   "metadata": {
    "id": "9cArJXaecQLg"
   },
   "source": [
    "the identity element maps a function to itself, so the entries are not permuted"
   ]
  },
  {
   "cell_type": "code",
   "execution_count": 22,
   "metadata": {
    "colab": {
     "base_uri": "https://localhost:8080/"
    },
    "id": "dkyjqK2GcQLg",
    "outputId": "f4ac2e16-e2fe-406e-e4b1-2d075e95820d"
   },
   "outputs": [
    {
     "data": {
      "text/plain": [
       "array([[ 1.,  0., -0., -0., -0., -0.,  0., -0.],\n",
       "       [ 0.,  1.,  0., -0., -0., -0., -0., -0.],\n",
       "       [-0.,  0.,  1., -0., -0.,  0., -0.,  0.],\n",
       "       [-0., -0., -0.,  1.,  0., -0., -0., -0.],\n",
       "       [-0., -0., -0.,  0.,  1.,  0., -0., -0.],\n",
       "       [-0., -0.,  0., -0.,  0.,  1., -0.,  0.],\n",
       "       [ 0.,  0.,  0.,  0., -0., -0.,  1., -0.],\n",
       "       [-0., -0.,  0., -0., -0.,  0., -0.,  1.]])"
      ]
     },
     "execution_count": 22,
     "metadata": {},
     "output_type": "execute_result"
    }
   ],
   "source": [
    "rho(G.identity)"
   ]
  },
  {
   "cell_type": "markdown",
   "metadata": {
    "id": "NfNZQhHycQLg"
   },
   "source": [
    "The regular representation of the rotation by $1\\frac{2\\pi}{8}$ just cyclically shifts each entry to the next position since $r_{1\\frac{2\\pi}{8}}^{-1} r_{i\\frac{2\\pi}{8}} = r_{(i-1)\\frac{2\\pi}{8}}$:"
   ]
  },
  {
   "cell_type": "code",
   "execution_count": 23,
   "metadata": {
    "colab": {
     "base_uri": "https://localhost:8080/"
    },
    "id": "zbTrUzKZcQLg",
    "outputId": "ff6bda6b-688d-4c26-f7a8-57b2873c867d"
   },
   "outputs": [
    {
     "data": {
      "text/plain": [
       "array([[ 0., -0.,  0., -0., -0.,  0., -0.,  1.],\n",
       "       [ 1.,  0., -0., -0., -0., -0.,  0., -0.],\n",
       "       [ 0.,  1.,  0., -0.,  0., -0., -0., -0.],\n",
       "       [-0.,  0.,  1., -0., -0.,  0., -0.,  0.],\n",
       "       [-0., -0., -0.,  1.,  0., -0.,  0., -0.],\n",
       "       [-0.,  0., -0.,  0.,  1.,  0.,  0., -0.],\n",
       "       [-0., -0.,  0., -0.,  0.,  1.,  0.,  0.],\n",
       "       [-0.,  0.,  0., -0.,  0., -0.,  1., -0.]])"
      ]
     },
     "execution_count": 23,
     "metadata": {},
     "output_type": "execute_result"
    }
   ],
   "source": [
    "rho(G.element(1))"
   ]
  },
  {
   "cell_type": "markdown",
   "metadata": {
    "id": "lMPG_z9jcQLh"
   },
   "source": [
    "Let's see an example of the action on a function.\n",
    "We consider a function which is zero on all group elements apart from the identity ($i=0$)."
   ]
  },
  {
   "cell_type": "code",
   "execution_count": 24,
   "metadata": {
    "colab": {
     "base_uri": "https://localhost:8080/"
    },
    "id": "x3KrJjrXcQLh",
    "outputId": "18b9c5a7-e0e4-4648-aa8c-531cc3ef6043"
   },
   "outputs": [
    {
     "data": {
      "text/plain": [
       "array([1., 0., 0., 0., 0., 0., 0., 0.])"
      ]
     },
     "execution_count": 24,
     "metadata": {},
     "output_type": "execute_result"
    }
   ],
   "source": [
    "f = np.zeros(8)\n",
    "f[0] = 1\n",
    "f"
   ]
  },
  {
   "cell_type": "markdown",
   "metadata": {
    "id": "kuFWujk_cQLh"
   },
   "source": [
    "Observe that $\\rho(e) \\mathbf{f} = \\mathbf{f}$, where $e = 0\\frac{2\\pi}{8}$ is the identity element."
   ]
  },
  {
   "cell_type": "code",
   "execution_count": 25,
   "metadata": {
    "colab": {
     "base_uri": "https://localhost:8080/"
    },
    "id": "La0rfdEycQLh",
    "outputId": "82d4ac93-f061-4459-a6f1-2b14b71f82ff"
   },
   "outputs": [
    {
     "data": {
      "text/plain": [
       "array([ 1.,  0., -0., -0., -0., -0.,  0., -0.])"
      ]
     },
     "execution_count": 25,
     "metadata": {},
     "output_type": "execute_result"
    }
   ],
   "source": [
    "rho(G.identity) @ f"
   ]
  },
  {
   "cell_type": "markdown",
   "metadata": {
    "id": "wlWW5joqcQLh"
   },
   "source": [
    "$\\mathbf{f}$ is non-zero only on the element $e$.\n",
    "If an element $g$ acts on this function, it moves the non-zero value to the entry associated with $g$:"
   ]
  },
  {
   "cell_type": "code",
   "execution_count": 26,
   "metadata": {
    "colab": {
     "base_uri": "https://localhost:8080/"
    },
    "id": "UZJV-YfkcQLh",
    "outputId": "697efea0-0164-4f99-99cf-98bf5eb914a5"
   },
   "outputs": [
    {
     "data": {
      "text/plain": [
       "array([ 0.,  1.,  0., -0., -0., -0., -0., -0.])"
      ]
     },
     "execution_count": 26,
     "metadata": {},
     "output_type": "execute_result"
    }
   ],
   "source": [
    "rho(G.element(1)) @ f"
   ]
  },
  {
   "cell_type": "code",
   "execution_count": 27,
   "metadata": {
    "colab": {
     "base_uri": "https://localhost:8080/"
    },
    "id": "qEHsuyIMcQLi",
    "outputId": "0405ee43-8115-4ca7-d762-e76b6c2ee84e"
   },
   "outputs": [
    {
     "data": {
      "text/plain": [
       "array([ 0., -0., -0., -0., -0., -0.,  1., -0.])"
      ]
     },
     "execution_count": 27,
     "metadata": {},
     "output_type": "execute_result"
    }
   ],
   "source": [
    "rho(G.element(6)) @ f"
   ]
  },
  {
   "cell_type": "markdown",
   "metadata": {
    "id": "rC2C598ScQLi"
   },
   "source": [
    "---\n",
    "\n",
    "#### QUESTION 3\n",
    "Prove the result above.\n",
    "\n",
    "#### ANSWER 3\n",
    "\n",
    "---"
   ]
  },
  {
   "cell_type": "markdown",
   "metadata": {
    "id": "6I1Df5BEcQLi"
   },
   "source": [
    "#### Equivalent Representations\n",
    "\n",
    "Two representations $\\rho$ and $\\rho'$ of a group $G$ on the same vector space $\\mathbb{R}^d$ are called *equivalent* (or **isomorphic**) if and only if they are related by a change of basis $Q \\in \\mathbb{R}^{d \\times d}$, i.e. \n",
    "$$ \\forall g \\in G \\quad \\rho(g) = Q \\rho'(g) Q^{-1} \\ . $$\n",
    "\n",
    "Equivalent representations behave similarly since their composition is *basis-independent* as seen by\n",
    "$$ \\rho'(g_1) \\rho'(g_2) = Q \\rho(g_1)Q^{−1}Q \\rho(g_2)Q^{−1} = Q \\rho(g_1)\\rho(g_2)Q^{−1} \\ .$$\n",
    "\n",
    "*Direct sum* and *change of basis matrices* provide a way to combine representations to construct larger and more complex representations.\n",
    "In the next example, we concatenate two trivial representations and two regular representations and apply a random change of basis $Q$.\n",
    "The final representation is formally defined as:\n",
    "$$\n",
    "\\rho(g) = Q\n",
    "\\left(\n",
    "\\rho_\\text{trivial} \\oplus\n",
    "\\rho_\\text{regular} \\oplus\n",
    "\\rho_\\text{regular} \\oplus\n",
    "\\rho_\\text{trivial}\n",
    "\\right)\n",
    "Q^{-1}\n",
    "$$"
   ]
  },
  {
   "cell_type": "code",
   "execution_count": null,
   "metadata": {
    "id": "0OP51IsBcQLi"
   },
   "outputs": [],
   "source": [
    "d = G.trivial_representation.size * 2 + G.regular_representation.size * 2\n",
    "Q = np.random.randn(d, d)\n",
    "rho = directsum(\n",
    "    [G.trivial_representation, G.regular_representation, G.regular_representation, G.trivial_representation],\n",
    "    change_of_basis=Q\n",
    ")"
   ]
  },
  {
   "cell_type": "code",
   "execution_count": null,
   "metadata": {
    "colab": {
     "base_uri": "https://localhost:8080/"
    },
    "id": "ewPHjFszcQLj",
    "outputId": "37863ec9-218a-4efc-b4c5-35056ca43a23"
   },
   "outputs": [],
   "source": [
    "rho.size"
   ]
  },
  {
   "cell_type": "markdown",
   "metadata": {
    "id": "LnegNCevcQLj"
   },
   "source": [
    "#### Irreducible Representations (or *Irreps*)\n",
    "\n",
    "Under minor conditions, any representation can be decomposed in this way, that is, any representation $\\rho$ of a compact group $G$ can be written as a *direct sum* of a number of smaller representations, up to a *change of basis*.\n",
    "These \"smaller representations\" can not be decomposed further and play a very important role in the theory of group representations and steerable CNNs and are called **irreducible representations**, or simply **irreps**.\n",
    "\n",
    "The set of *irreducible representations* of a group $G$ is generally denoted as $\\hat{G}$.\n",
    "We will often use the notation $\\hat{G} = \\{\\rho_j\\}_j$ to index this set."
   ]
  },
  {
   "cell_type": "markdown",
   "metadata": {
    "id": "MhzTXFsWcQLj"
   },
   "source": [
    "We can access the irreps of a group via the `irrep()` method.\n",
    "The *trivial representation* is *always* an irreducible representation.\n",
    "For $G=C_8$, we access it with the index $j=0$:"
   ]
  },
  {
   "cell_type": "code",
   "execution_count": null,
   "metadata": {
    "colab": {
     "base_uri": "https://localhost:8080/"
    },
    "id": "JY-vdM2GcQLj",
    "outputId": "25e5efe8-7d3f-4d7c-edeb-f370cb185813"
   },
   "outputs": [],
   "source": [
    "rho_0 = G.irrep(0)\n",
    "\n",
    "print(rho_0 == G.trivial_representation)\n",
    "\n",
    "rho_0(G.sample())\n"
   ]
  },
  {
   "cell_type": "markdown",
   "metadata": {
    "id": "Re7L8u5McQLk"
   },
   "source": [
    "The next irrep $j=1$ gives the representation of $i\\frac{2\\pi}{8}$ as the $2 \\times 2$ rotation matrix by $\\theta = i\\frac{2\\pi}{8}$:"
   ]
  },
  {
   "cell_type": "code",
   "execution_count": null,
   "metadata": {
    "colab": {
     "base_uri": "https://localhost:8080/"
    },
    "id": "CePW0KyNcQLk",
    "outputId": "7182b6b5-5bb6-44fc-90b6-28b3ed16e8ec"
   },
   "outputs": [],
   "source": [
    "rho = G.irrep(1)\n",
    "g = G.sample()\n",
    "\n",
    "print(g)\n",
    "print()\n",
    "print(rho(g))"
   ]
  },
  {
   "cell_type": "markdown",
   "metadata": {
    "id": "_Brfn36_cQLk"
   },
   "source": [
    "Irreducible representations provide the building blocks to construct any representation $\\rho$ via direct sums and change of basis, i.e:\n",
    "$$ \\rho = Q \\left( \\bigoplus_{j \\in \\mathcal{I}} \\rho_j \\right) Q^{-1} $$\n",
    "\n",
    "where $\\mathcal{I}$ is an index set (possibly with repetitions) over $\\hat{G}$."
   ]
  },
  {
   "cell_type": "markdown",
   "metadata": {
    "id": "-6VbbktxcQLk"
   },
   "source": [
    "Internally, any `escnn.group.Representation` is indeed implemented as a list of irreps (representing the index set $\\mathcal{I}$) and a change of basis $Q$.\n",
    "An irrep is identified by a *tuple* `id`.\n",
    "\n",
    "Let's see an example.\n",
    "Let's take the regular representaiton of $C_8$ and check its decomposition into irreps:"
   ]
  },
  {
   "cell_type": "code",
   "execution_count": null,
   "metadata": {
    "colab": {
     "base_uri": "https://localhost:8080/"
    },
    "id": "7gnOnfIncQLk",
    "outputId": "2bc03f54-a9df-4991-e38d-c658208f44d8"
   },
   "outputs": [],
   "source": [
    "rho = G.regular_representation\n",
    "rho.irreps"
   ]
  },
  {
   "cell_type": "code",
   "execution_count": null,
   "metadata": {
    "colab": {
     "base_uri": "https://localhost:8080/"
    },
    "id": "HZ0vO35FcQLk",
    "outputId": "a00ad28b-9508-4d86-85cd-a0151f998abe"
   },
   "outputs": [],
   "source": [
    "rho.change_of_basis"
   ]
  },
  {
   "cell_type": "code",
   "execution_count": null,
   "metadata": {
    "colab": {
     "base_uri": "https://localhost:8080/"
    },
    "id": "aC8_wK4TcQLl",
    "outputId": "71731f2a-c4a0-4280-a7ee-f9fc5bc6cf41"
   },
   "outputs": [],
   "source": [
    "# let's access second irrep\n",
    "rho_id = rho.irreps[1]\n",
    "rho_1 = G.irrep(*rho_id)\n",
    "\n",
    "# we verify it is the irrep j=1 we described before\n",
    "rho_1(g)"
   ]
  },
  {
   "cell_type": "markdown",
   "metadata": {
    "id": "iajjFdqhid9U"
   },
   "source": [
    "Finally, let's verify that this direct sum and this change of basis indeed yield the regular representation"
   ]
  },
  {
   "cell_type": "code",
   "execution_count": null,
   "metadata": {
    "colab": {
     "base_uri": "https://localhost:8080/"
    },
    "id": "VOfg1c1DitSg",
    "outputId": "0fd4dc9f-c5bc-41dc-a4c2-57d1cf4bd5f7"
   },
   "outputs": [],
   "source": [
    "\n",
    "# evaluate all the irreps in rho.irreps:\n",
    "irreps = [\n",
    "          G.irrep(*irrep)(g) for irrep in rho.irreps\n",
    "]\n",
    "\n",
    "# build the direct sum\n",
    "direct_sum = np.asarray(scipy.sparse.block_diag(irreps, format='csc').todense())\n",
    "\n",
    "print('Regular representation of', g)\n",
    "print(rho(g))\n",
    "print()\n",
    "print('Direct sum of the irreps:')\n",
    "print(direct_sum)\n",
    "print()\n",
    "print('Apply the change of basis on the direct sum of the irreps:')\n",
    "print(rho.change_of_basis @ direct_sum @ rho.change_of_basis_inv)\n",
    "print()\n",
    "print('Are the two representations equal?', np.allclose(rho(g), rho.change_of_basis @ direct_sum @ rho.change_of_basis_inv))\n"
   ]
  },
  {
   "cell_type": "markdown",
   "metadata": {
    "id": "Xn2amCSQcQLl"
   },
   "source": [
    "### 1.2 Fourier Transform\n",
    "\n",
    "We can finally approach the harmonic analysis of functions over a group $G$.\n",
    "\n",
    "Note that a representation $\\rho: G \\to \\mathbb{R}^{d \\times d}$ can be interpreted as a collection of $d^2$ functions over $G$, one for each matrix entry of $\\rho$.\n",
    "The **Peter-Weyl theorem** states that the collection of functions in the matrix entries of all irreps $\\hat{G}$ of a group $G$ spans the space of all (square-integrable) functions over $G$.\n",
    "\n",
    "This result gives us a way to parameterize functions over the group. This is the focus of this section.\n",
    "In particular, this is useful to parameterize functions over groups with infinite elements."
   ]
  },
  {
   "cell_type": "markdown",
   "metadata": {
    "id": "7l0487w2cQLl"
   },
   "source": [
    "In this section, we will first consider the *dihedral group* $D_8$ as example.\n",
    "This is the group containing the $8$ planar rotations by angles multiple of $\\frac{2\\pi}{8}$ and *reflection* along the $X$ axis.\n",
    "The group contains in total $16$ elements ($8$ normal rotations and $8$ rotations preceeded by the reflection)."
   ]
  },
  {
   "cell_type": "code",
   "execution_count": null,
   "metadata": {
    "colab": {
     "base_uri": "https://localhost:8080/"
    },
    "id": "M7FGPHzFcQLl",
    "outputId": "6e0f22e0-4f75-4853-93a1-b331db57621a"
   },
   "outputs": [],
   "source": [
    "G = dihedral_group(8)\n",
    "G.order()"
   ]
  },
  {
   "cell_type": "code",
   "execution_count": null,
   "metadata": {
    "colab": {
     "base_uri": "https://localhost:8080/"
    },
    "id": "_P1zJdo7cQLm",
    "outputId": "7cfd707d-b4cf-4e60-a599-107f32cb9303"
   },
   "outputs": [],
   "source": [
    "# element representing the reflection (-) and no rotations\n",
    "G.reflection"
   ]
  },
  {
   "cell_type": "code",
   "execution_count": null,
   "metadata": {
    "colab": {
     "base_uri": "https://localhost:8080/"
    },
    "id": "VM64mjrYcQLm",
    "outputId": "bc5425a9-e75c-45be-8916-76826fa9412d"
   },
   "outputs": [],
   "source": [
    "# element representing a rotation by pi/2 (i.e. 2 * 2pi/8) and no reflections (+)\n",
    "G.element((0, 2))"
   ]
  },
  {
   "cell_type": "code",
   "execution_count": null,
   "metadata": {
    "colab": {
     "base_uri": "https://localhost:8080/"
    },
    "id": "wSPPV8xqcQLm",
    "outputId": "b6e709d1-d63a-44c2-afae-2634a0e8f314"
   },
   "outputs": [],
   "source": [
    "# reflection followed by a rotation by pi/2\n",
    "print(G.element((0, 2)) @ G.reflection)\n",
    "\n",
    "# we can also directly generate this element as\n",
    "print(G.element((1, 2)))"
   ]
  },
  {
   "cell_type": "code",
   "execution_count": null,
   "metadata": {
    "colab": {
     "base_uri": "https://localhost:8080/"
    },
    "id": "yhXuYmCVcQLm",
    "outputId": "06b0b4bb-2228-4042-e5f2-f049a46c7ac9"
   },
   "outputs": [],
   "source": [
    "# a rotation by pi/2 followed by a reflection is equivalent to a reclection followed by a rotation by 6*2pi/8\n",
    "G.reflection @ G.element((0, 2))"
   ]
  },
  {
   "cell_type": "markdown",
   "metadata": {
    "id": "TS-i3cMCcQLm"
   },
   "source": [
    "The list of all elements in the group is obtaied as:"
   ]
  },
  {
   "cell_type": "code",
   "execution_count": null,
   "metadata": {
    "colab": {
     "base_uri": "https://localhost:8080/"
    },
    "id": "pN2RwwF8cQLm",
    "outputId": "3fff3785-148c-4a68-958e-dcf18c9a4d02"
   },
   "outputs": [],
   "source": [
    "G.elements"
   ]
  },
  {
   "cell_type": "markdown",
   "metadata": {
    "id": "wteIYcqQcQLn"
   },
   "source": [
    "#### Fourier and Inverse Fourier Transform\n",
    "\n",
    "For most groups, the entries of the irreps don't only span the space of functions but form also a basis (i.e. these functions are mutually orthogonal to each other).\n",
    "Therefore, we can write a function $f: G \\to \\mathbb{R}$ as\n",
    "$$ f(g) = \\sum_{\\rho_j \\in \\hat{G}} \\sum_{m,n < d_j} w_{j,m,n} \\cdot \\sqrt{d_j} [\\rho_j(g)]_{mn}$$\n",
    "\n",
    "where $d_j$ is the dimension of the irrep $\\rho_j$, while $m, n$ index the $d_j^2$ entries of $\\rho_j$.\n",
    "The coefficients $\\{ w_{j, m, n} \\in \\mathbb{R} \\}_{j, m, n}$ parameterize the function $f$ on this basis.\n",
    "The $\\sqrt{d_j}$ is a scalar factor to ensure the basis is normalized.\n",
    "\n",
    "We rewrite this expression in a cleaner form by using the following fact.\n",
    "If $A, B \\in \\mathbb{R}^{d \\times d}$, then\n",
    "$$\\text{Tr}(A^T B) = \\sum_{m, n < d} A_{mn} B_{mn} \\in \\mathbb{R} \\ .$$\n",
    "\n",
    "By definining $\\hat{f}(\\rho_j) \\in \\mathbb{R}^{d_j \\times d_j}$ as the matrix containing the $d_j^2$ coefficients $\\{ w_{j, m, n} \\in \\mathbb{R} \\}_{m, n < d_j}$, we can express the **Inverse Fourier Transform** as:\n",
    "$$ f(g) = \\sum_{\\rho_j \\in \\hat{G}} \\sqrt{d_j} \\text{Tr}\\left(\\rho_j(g)^T \\hat{f}(\\rho_j)\\right) $$\n",
    "\n",
    "Similarly, we can project a general function $f: G \\to \\mathbb{R}$ on an element $\\rho_{j,m,n}: G \\to \\mathbb{R}$ of the basis via:\n",
    "$$ w_{j,m,n} = \\frac{1}{|G|} \\sum_{g \\in G} f(g) \\sqrt{d_j} [\\rho_j(g)]_{m, n} \\ . $$\n",
    "\n",
    "The projection over all entries of $\\rho_j$ can be more cleanly written as follows:\n",
    "$$ \\hat{f}(\\rho_j) = \\frac{1}{|G|} \\sum_{g \\in G} f(g) \\sqrt{d_j} \\rho_j(g) \\ . $$\n",
    "\n",
    "which we refer to as **Fourier Transform**.\n",
    "\n",
    "If the group $G$ is *infinite*, we replace the average over the group elements with an *integral* over them:\n",
    "$$ \\hat{f}(\\rho_j) = \\int_G f(g) \\sqrt{d_j} \\rho_j(g) dg \\ , $$"
   ]
  },
  {
   "cell_type": "markdown",
   "metadata": {
    "id": "9SGtT8HqcQLn"
   },
   "source": [
    "For a finite group $G$, we can access all its irreps by using the ``Group.irreps()`` method.\n",
    "Let's see an example:"
   ]
  },
  {
   "cell_type": "code",
   "execution_count": null,
   "metadata": {
    "colab": {
     "base_uri": "https://localhost:8080/"
    },
    "id": "UX1j_wiMcQLn",
    "outputId": "47077591-ba51-4af3-f9a7-22537f13c730"
   },
   "outputs": [],
   "source": [
    "irreps = G.irreps()\n",
    "print(f'The dihedral group D8 has {len(irreps)} irreps')"
   ]
  },
  {
   "cell_type": "code",
   "execution_count": null,
   "metadata": {
    "colab": {
     "base_uri": "https://localhost:8080/"
    },
    "id": "U-DtyU37cQLn",
    "outputId": "c2fe9573-2a4b-47c2-8f69-627d24f163f1"
   },
   "outputs": [],
   "source": [
    "# the first one, is the 1-dimensional trivial representation\n",
    "print(irreps[0] == G.trivial_representation == G.irrep(0, 0))"
   ]
  },
  {
   "cell_type": "markdown",
   "metadata": {
    "id": "QvTWLjOPcQLn"
   },
   "source": [
    "---\n",
    "\n",
    "#### QUESTION 4\n",
    "We can now implement the Fourier Transform and the Inverse Fourier Transform for the Dihedral Group $D_8$.\n",
    "Using the equations above, implement the following methods:\n",
    "\n",
    "---"
   ]
  },
  {
   "cell_type": "code",
   "execution_count": null,
   "metadata": {
    "id": "qk-8qCYqcQLn"
   },
   "outputs": [],
   "source": [
    "def fourier_transform_D8(f: np.array):\n",
    "    # the method gets in input a function on the elements of D_8\n",
    "    # and should return a dictionary mapping each irrep's `id` to the corresponding Fourier Transform\n",
    "    # The i-th element of `f` stores the value of the function on the group element `G.elements[i]`\n",
    "    \n",
    "    G = dihedral_group(8)\n",
    "    assert f.shape == (16,), f.shape\n",
    "    ft = {}\n",
    "    \n",
    "    ########################\n",
    "    # INSERT YOUR CODE HERE:\n",
    "   \n",
    "    \n",
    "    ########################\n",
    "    \n",
    "    return ft"
   ]
  },
  {
   "cell_type": "code",
   "execution_count": null,
   "metadata": {
    "id": "MZgP2GEHcQLo"
   },
   "outputs": [],
   "source": [
    "def inverse_fourier_transform_D8(ft: dict):\n",
    "    # the method gets in input a dictionary mapping each irrep's `id` to the corresponding Fourier Transform\n",
    "    # and should return the function `f` on the elements of D_8\n",
    "    # The i-th element of `f` stores the value of the function on the group element `G.elements[i]`\n",
    "    \n",
    "    G = dihedral_group(8)\n",
    "    f = np.zeros(16)\n",
    "    \n",
    "    ########################\n",
    "    # INSERT YOUR CODE HERE:\n",
    "    \n",
    "    \n",
    "    ########################\n",
    "    \n",
    "    return f"
   ]
  },
  {
   "cell_type": "markdown",
   "metadata": {
    "id": "R3E0QDIOcQLo"
   },
   "source": [
    "We now want to verify that the **Fourier Transform** and the **Inverse Fourier Transform** are inverse of each other:"
   ]
  },
  {
   "cell_type": "code",
   "execution_count": null,
   "metadata": {
    "id": "OF6A_JzwcQLo"
   },
   "outputs": [],
   "source": [
    "f = np.random.randn(16)\n",
    "\n",
    "ft = fourier_transform_D8(f)\n",
    "\n",
    "new_f = inverse_fourier_transform_D8(ft)\n",
    "\n",
    "assert np.allclose(f, new_f)"
   ]
  },
  {
   "cell_type": "markdown",
   "metadata": {
    "id": "K5Dyf0j9cQLo"
   },
   "source": [
    "#### Parameterizing functions over infinite groups\n",
    "This allows us to also parameterize functions over infinite groups, such as $O(2)$, i.e. the group of all planar rotations and reflections."
   ]
  },
  {
   "cell_type": "code",
   "execution_count": null,
   "metadata": {
    "id": "I9ezRrM0cQLo"
   },
   "outputs": [],
   "source": [
    "G = o2_group()"
   ]
  },
  {
   "cell_type": "code",
   "execution_count": null,
   "metadata": {
    "colab": {
     "base_uri": "https://localhost:8080/"
    },
    "id": "a_VzVXqUcQLo",
    "outputId": "bcb72d1e-b721-4b3a-c840-2f208ed50a54"
   },
   "outputs": [],
   "source": [
    "# the group has infinite many elements, so the `order` method just returns -1\n",
    "G.order()"
   ]
  },
  {
   "cell_type": "markdown",
   "metadata": {
    "id": "0to6C36EcQLp"
   },
   "source": [
    "The equations remain the same, but this group has an *infinite* number of *irreps*.\n",
    "We can, however, parameterize a function over the group by only considering a finite number of irreps in the sum inside the definition of *Inverse Fourier Transform*.\n",
    "Let $\\tilde{G} \\subset \\hat{G}$ be a finite subset of the irreps of $G$.\n",
    "We can then write the following transforms within the subspace of functions spanned only by the entries of the irreps in $\\tilde{G}$.\n",
    "\n",
    "**Inverse Fourier Transform**:\n",
    "$$ f(g) = \\sum_{\\rho_j \\in \\tilde{G}} \\sqrt{d_j} \\text{Tr}\\left(\\rho_j(g)^T \\hat{f}(\\rho_j)\\right) $$\n",
    "\n",
    "and **Fourier Transform**:\n",
    "$$ \\hat{f}(\\rho_j) = \\int_G f(g) \\sqrt{d_j} \\rho_j(g) dg \\ , $$\n"
   ]
  },
  {
   "cell_type": "markdown",
   "metadata": {
    "id": "ysGoKX7rcQLp"
   },
   "source": [
    "---\n",
    "\n",
    "#### QUESTION 5\n",
    "We can now implement the Inverse Fourier Transform for the Orthogonal Group $O(2)$.\n",
    "Since the group has infinite many elements, we can not store the values the function take on each element.\n",
    "Instead, we just sample the function on a particular element of the group:\n",
    "\n",
    "---"
   ]
  },
  {
   "cell_type": "code",
   "execution_count": null,
   "metadata": {
    "id": "xlca8Xv8cQLp"
   },
   "outputs": [],
   "source": [
    "def inverse_fourier_transform_O2(g: GroupElement, ft: dict):\n",
    "    # the method gets in input a dictionary mapping each irrep's `id` to the corresponding Fourier Transform\n",
    "    # and a group element `g` \n",
    "    # The method should return the value of the function evaluated on `g`.\n",
    "    \n",
    "    G = o2_group()\n",
    "    f = 0\n",
    "    \n",
    "    ########################\n",
    "    # INSERT YOUR CODE HERE:\n",
    "    \n",
    "    \n",
    "    ########################\n",
    "    \n",
    "    return f"
   ]
  },
  {
   "cell_type": "markdown",
   "metadata": {
    "id": "U0JPQeYXcQLp"
   },
   "source": [
    "Let's plot a function.\n",
    "First we generate a random function by using a few irreps."
   ]
  },
  {
   "cell_type": "code",
   "execution_count": null,
   "metadata": {
    "id": "l8HxIbnDcQLp"
   },
   "outputs": [],
   "source": [
    "irreps = [G.irrep(0, 0)] + [G.irrep(1, j) for j in range(3)]\n",
    "\n",
    "ft = {\n",
    "    rho.id: np.random.randn(rho.size, rho.size)\n",
    "    for rho in irreps\n",
    "}"
   ]
  },
  {
   "cell_type": "markdown",
   "metadata": {
    "id": "uX-v7YNJcQLp"
   },
   "source": [
    "Then, we generate a grid on the group where to evaluate the function, i.e. we choose a finite set of element of $G$.\n",
    "Like the Dihedral group, $O(2)$ contains rotations (parameterized by an angle $\\theta \\in [0, 2\\pi)$) and a reflection followed by any rotation.\n",
    "For example:"
   ]
  },
  {
   "cell_type": "code",
   "execution_count": null,
   "metadata": {
    "colab": {
     "base_uri": "https://localhost:8080/"
    },
    "id": "KFhO6jYecQLq",
    "outputId": "8e23da8f-5f22-479c-d213-28dc6729db9e"
   },
   "outputs": [],
   "source": [
    "G.sample()"
   ]
  },
  {
   "cell_type": "markdown",
   "metadata": {
    "id": "wGREVzLKcQLq"
   },
   "source": [
    "To build our grid, we sample $100$ rotations and $100$ rotations preceeded by a reflection:"
   ]
  },
  {
   "cell_type": "code",
   "execution_count": null,
   "metadata": {
    "id": "xIcA1mfAcQLq"
   },
   "outputs": [],
   "source": [
    "N = 100\n",
    "thetas = [i*2*np.pi/N for i in range(N)]\n",
    "grid_rot = [G.element((0, theta)) for theta in thetas]\n",
    "grid_refl = [G.element((1, theta)) for theta in thetas]"
   ]
  },
  {
   "cell_type": "markdown",
   "metadata": {
    "id": "DCCVddnocQLq"
   },
   "source": [
    "We now evaluate the function over all these elements and, finally, plot it:"
   ]
  },
  {
   "cell_type": "code",
   "execution_count": null,
   "metadata": {
    "colab": {
     "base_uri": "https://localhost:8080/",
     "height": 0
    },
    "id": "ZsDDkSKOcQLq",
    "outputId": "df6451eb-5bf3-4cd7-821c-5870da350b96"
   },
   "outputs": [],
   "source": [
    "f_rot = [\n",
    "    inverse_fourier_transform_O2(g, ft) for g in grid_rot\n",
    "]\n",
    "f_refl = [\n",
    "    inverse_fourier_transform_O2(g, ft) for g in grid_refl\n",
    "]\n",
    "\n",
    "\n",
    "plt.plot(thetas, f_rot, label='rotations')\n",
    "plt.plot(thetas, f_refl, label='reflection + rotations')\n",
    "plt.xlabel('theta [0, 2pi)')\n",
    "plt.ylabel('f(g)')\n",
    "plt.legend()\n",
    "plt.show()"
   ]
  },
  {
   "cell_type": "markdown",
   "metadata": {
    "id": "HH5RBOBZcQLq"
   },
   "source": [
    "Observe that using more irreps allows one to parameterize more flexible functions.\n",
    "Let's try to add some more:"
   ]
  },
  {
   "cell_type": "code",
   "execution_count": null,
   "metadata": {
    "colab": {
     "base_uri": "https://localhost:8080/",
     "height": 0
    },
    "id": "Ic9uAMJEcQLr",
    "outputId": "bfb65984-5582-41d1-a392-0283fb620aab"
   },
   "outputs": [],
   "source": [
    "irreps = [G.irrep(0, 0)] + [G.irrep(1, j) for j in range(8)]\n",
    "\n",
    "ft = {\n",
    "    rho.id: np.random.randn(rho.size, rho.size)\n",
    "    for rho in irreps\n",
    "}\n",
    "\n",
    "f_rot = [\n",
    "    inverse_fourier_transform_O2(g, ft) for g in grid_rot\n",
    "]\n",
    "f_refl = [\n",
    "    inverse_fourier_transform_O2(g, ft) for g in grid_refl\n",
    "]\n",
    "\n",
    "\n",
    "plt.plot(thetas, f_rot, label='rotations')\n",
    "plt.plot(thetas, f_refl, label='reflection + rotations')\n",
    "plt.xlabel('theta [0, 2pi)')\n",
    "plt.ylabel('f(g)')\n",
    "plt.legend()\n",
    "plt.show()"
   ]
  },
  {
   "cell_type": "markdown",
   "metadata": {
    "id": "GJ-VvAUmcQLr"
   },
   "source": [
    "#### Fourier Transform of shifted functions\n",
    "\n",
    "Recall that a group element $g \\in G$ can act on a function $f: G \\to \\mathbb{R}$ as:\n",
    "$$ [g.f](h) = f(g^{-1}h) \\ .$$\n",
    "\n",
    "The Fourier transform defined before has the convenient property that the Fourier transform of $f$ and of $[g.f]$ are related as follows:\n",
    "$$\\widehat{g.f}(\\rho_j) = \\rho_j(g) \\widehat{f} $$\n",
    "\n",
    "for any irrep $\\rho_j$."
   ]
  },
  {
   "cell_type": "markdown",
   "metadata": {
    "id": "r_qj4VCacQLr"
   },
   "source": [
    "---\n",
    "\n",
    "#### QUESTION 6\n",
    "Prove the property above.\n",
    "\n",
    "#### ANSWER 6\n",
    "\n",
    "\n",
    "---"
   ]
  },
  {
   "cell_type": "markdown",
   "metadata": {
    "id": "7QtTiJ6fcQLr"
   },
   "source": [
    "We can verify this property visually:"
   ]
  },
  {
   "cell_type": "code",
   "execution_count": null,
   "metadata": {
    "colab": {
     "base_uri": "https://localhost:8080/",
     "height": 0
    },
    "id": "RaPtUhgxcQLr",
    "outputId": "f3fb9db8-c3ae-4c1d-c500-91e6c1c2608d"
   },
   "outputs": [],
   "source": [
    "irreps = [G.irrep(0, 0)] + [G.irrep(1, j) for j in range(8)]\n",
    "\n",
    "# first, we generate a random function, as earlier\n",
    "ft = {\n",
    "    rho.id: np.random.randn(rho.size, rho.size)\n",
    "    for rho in irreps\n",
    "}\n",
    "\n",
    "# second, we sample a random group element `g`\n",
    "g = G.sample()\n",
    "print(f'Transforming the function with g={g}')\n",
    "\n",
    "# finally, we transform the Fourier coefficients as in the equations above:\n",
    "gft = {\n",
    "    rho.id: rho(g) @ ft[rho.id]\n",
    "    for rho in irreps\n",
    "}\n",
    "\n",
    "# Let's now visualize the two functions:\n",
    "\n",
    "f_rot = [\n",
    "    inverse_fourier_transform_O2(g, ft) for g in grid_rot\n",
    "]\n",
    "f_refl = [\n",
    "    inverse_fourier_transform_O2(g, ft) for g in grid_refl\n",
    "]\n",
    "\n",
    "gf_rot = [\n",
    "    inverse_fourier_transform_O2(g, gft) for g in grid_rot\n",
    "]\n",
    "gf_refl = [\n",
    "    inverse_fourier_transform_O2(g, gft) for g in grid_refl\n",
    "]\n",
    "\n",
    "\n",
    "plt.plot(thetas, f_rot, label='rotations')\n",
    "plt.plot(thetas, f_refl, label='reflection + rotations')\n",
    "plt.xlabel('theta [0, 2pi)')\n",
    "plt.ylabel('f(g)')\n",
    "plt.title('f')\n",
    "plt.legend()\n",
    "plt.show()\n",
    "\n",
    "plt.plot(thetas, gf_rot, label='rotations')\n",
    "plt.plot(thetas, gf_refl, label='reflection + rotations')\n",
    "plt.xlabel('theta [0, 2pi)')\n",
    "plt.ylabel('f(g)')\n",
    "plt.title('g.f')\n",
    "plt.legend()\n",
    "plt.show()"
   ]
  },
  {
   "cell_type": "markdown",
   "metadata": {
    "id": "EEtyoU54cQLs"
   },
   "source": [
    "#### From the Fourier Transform to the Regular Representation\n",
    "\n",
    "For simplicity, we can stack all the Fourier coefficients (the output of the Fourier transform, that is, the input of the inverse Fourier transform) into a unique vector.\n",
    "We define the vector $\\mathbf{f}$ as the stack of the columns of each Fourier coefficients matrix $f(\\rho_j)$.\n",
    "\n",
    "Let's first introduce some notation.\n",
    "We denote the stack of two vectors $\\mathbf{v_1}, \\mathbf{v_2}$ as $\\mathbf{v_1} \\oplus \\mathbf{v_2}$.\n",
    "The use of $\\oplus$ is not random: if $\\rho_1$ is a representation acting on $\\mathbf{v_1}$ and $\\rho_2$ is a representation acting on $\\mathbf{v_2}$, then the *direct sum* $\\rho_1 \\oplus \\rho_2$ acts on the concatenated vector $\\mathbf{v_1} \\oplus \\mathbf{v_2}$.\n",
    "\n",
    "Second, we denote by $\\text{vec}(A)$ the vector which is the stack of the columns of a matrix $A$.\n",
    "In `numpy`, this is written as `A.T.reshape(-1)`, where the transpose is necessary since `numpy` stacks rows by default.\n",
    "\n",
    "Then, we write:\n",
    "$$ \\mathbf{f} = \\bigoplus_{\\rho_j} \\text{vec}(\\hat{f}(\\rho_j)) \\ .$$\n",
    "\n",
    "Moreover, by using $\\widehat{g.f}(\\rho_j) = \\rho_j(g) \\hat{f}(\\rho_j)$, we see that the vector containing the coefficients of the function $[g.f]$ will be:\n",
    "$$\n",
    "\\bigoplus_{\\rho_j} \\text{vec}(\\rho_j(g) \\hat{f}(\\rho_j)) = \n",
    "\\bigoplus_{\\rho_j} \\left(\\bigoplus^{d_j} \\rho_j(g)\\right) \\text{vec}(\\hat{f}(\\rho_j))\n",
    "$$\n",
    "\n",
    "In other words, the group $G$ is acting on the vector $\\mathbf{f}$ with the following representation:\n",
    "$$\n",
    "\\rho(g) = \\bigoplus_{\\rho_j} \\bigoplus^{d_j} \\rho_j(g)\n",
    "$$\n",
    "\n",
    "i.e. $\\rho(g) \\mathbf{f}$ is the vector containing the Fourier coefficients of the function $[g.f]$."
   ]
  },
  {
   "cell_type": "markdown",
   "metadata": {
    "id": "soETTVlMcQLs"
   },
   "source": [
    "Note that, essentially, the representation $\\rho$ acts on a vector space containing functions over $G$.\n",
    "This should remind you of the **regular representation** we defined for *finite groups* earlier.\n",
    "Indeed, it turns out that, if $G$ is finite, the representation $\\rho$ we have just constructed is **isomorphic** (*equivalent*) to the *regular representation* defined earlier.\n",
    "The change of basis $Q$ is a matrix which performs the Fourier transform, while $Q^{-1}$ performs the inverse Fourier transform.\n",
    "More formally:\n",
    "$$ \\rho_\\text{reg}(g) = Q^{-1} \\left(\\bigoplus_{\\rho_j} \\bigoplus^{d_j} \\rho_j(g) \\right) Q $$\n",
    "\n",
    "where each irrep $\\rho_j$ is repeated $d_j$ times, i.e. a number of times equal to its size."
   ]
  },
  {
   "cell_type": "markdown",
   "metadata": {
    "id": "pDqHvssGptvW"
   },
   "source": [
    "**Intuition**: recall that a function $f : G \\to \\mathbb{R}$ is just a vector living in a vector space. Such vector can be expressed with respect to any basis for this vector space. The first time we introduced the *regular representation* for finite groups, we chose a basis where each axis is associated with a group element; the action of $G$ is realized in this basis by a permutation of all the axes. Here, instead, we defined a basis for the same vector space where $G$ acts indipendently on different subsets of the axes, i.e. the action of $G$ is a block-diagonal matrix (the direct sum of irreps). This is often a more convenient choice of basis as we will see later."
   ]
  },
  {
   "cell_type": "markdown",
   "metadata": {
    "id": "rvgKeBEZcQLs"
   },
   "source": [
    "Let verify this equivalence for the Dihdral group $D_8$:"
   ]
  },
  {
   "cell_type": "code",
   "execution_count": null,
   "metadata": {
    "colab": {
     "base_uri": "https://localhost:8080/"
    },
    "id": "sdlvVFUJcQLs",
    "outputId": "6f4e2ccf-5b2e-4bbc-ef69-d315c516e45e"
   },
   "outputs": [],
   "source": [
    "\n",
    "G = dihedral_group(8)\n",
    "\n",
    "rho_irreps = []\n",
    "for rho_j in G.irreps():\n",
    "    d_j = rho_j.size\n",
    "    # repeat each irrep a number of times equal to its size\n",
    "    rho_irreps += [rho_j]*d_j\n",
    "\n",
    "rho = directsum(rho_irreps)\n",
    "\n",
    "print('The representations have the same size:')\n",
    "print(rho.size, G.regular_representation.size)\n",
    "\n",
    "print('And contain the same irreps:')\n",
    "print(rho.irreps)\n",
    "print(G.regular_representation.irreps)\n",
    "\n",
    "# Fourier transform matrix:\n",
    "Q = G.regular_representation.change_of_basis\n",
    "# inverse Fourier transform matrix:\n",
    "Qinv = G.regular_representation.change_of_basis_inv\n",
    "\n",
    "# let's check that the two representations are indeed equivalent\n",
    "g = G.sample()\n",
    "\n",
    "rho_g = rho(g)\n",
    "reg_g = G.regular_representation(g)\n",
    "print()\n",
    "print('Are the two representations equivalent?', np.allclose(Q @ rho_g @ Qinv, reg_g))"
   ]
  },
  {
   "cell_type": "markdown",
   "metadata": {
    "id": "gWWja59scQLs"
   },
   "source": [
    "When $G$ is not finite, we can not explicitly store the regular representation $\\rho_\\text{reg}$ or the Fourier transform matrix $Q$, since they are infinite dimensional.\n",
    "Nevertheless, as we have done earlier, we can just consider a subset of all functions, spanned only by a finite number of irreps.\n",
    "We can sample the function on any group element via the Inverse Fourier Transform when needed, without the need to compute the full Inverse Fourier Transform $Q^{-1}$ to store all values.\n",
    "\n",
    "This is the underlying idea we will exploit later to build GCNNs equivariant to infinite groups."
   ]
  },
  {
   "cell_type": "markdown",
   "metadata": {
    "id": "fuA63jcqcQLt"
   },
   "source": [
    "We can easily generate this representation as (`bl_regular_representation` stands for \"band-limited\", since only a limited subset of irreps, i.e. frequencies, is used):"
   ]
  },
  {
   "cell_type": "code",
   "execution_count": null,
   "metadata": {
    "colab": {
     "base_uri": "https://localhost:8080/"
    },
    "id": "jK5l0p-ocQLt",
    "outputId": "097d2d0d-09aa-431d-c292-e42a51837d10"
   },
   "outputs": [],
   "source": [
    "G = o2_group()\n",
    "\n",
    "rho = G.bl_regular_representation(7)\n",
    "\n",
    "rho.irreps"
   ]
  },
  {
   "cell_type": "markdown",
   "metadata": {
    "id": "2ciIlTnmcQLt"
   },
   "source": [
    "#### Irreps with redundant entries: the case of $SO(2)$\n",
    "We need to conclude with a final note about the Fourier transform.\n",
    "When we introduced it earlier, we said that the entries of the irreps form a **basis** for the functions over *most* groups.\n",
    "Indeed, there exists some groups where the entries of the irreps are partially redundant and, therefore, form an *overcomplete* basis.\n",
    "This is the case, for example, of the group of planar rotations $SO(2)$ (or the group of $N$ discrete rotations $C_N$).\n",
    "Indeed, an irrep of $SO(2)$ has form:\n",
    "\n",
    "$$\n",
    "\\rho_j(r_\\theta) = \\begin{bmatrix}\n",
    "    \\cos(j \\cdot \\theta) & -\\sin(j \\cdot \\theta) \\\\\n",
    "    \\sin(j \\cdot \\theta) & \\cos(j \\cdot \\theta) \\\\\n",
    "\\end{bmatrix}\n",
    "$$\n",
    "\n",
    "for $\\theta \\in [0, 2\\pi)$, where the integer $j \\in \\mathbb{N}$ is interpreted as the rotational *frequency*.\n",
    "\n",
    "You can observe that the two columns of $\\rho_j(r_\\theta)$ contain redundant elements and span the same $2$ dimensional space of functions.\n",
    "It is indeed sufficient to consider only one of the two columns to parameterize functions over $SO(2)$.\n",
    "This also means that the irrep $\\rho_j$ appears only once (instead of $d_j=2$ times) in the regular representation.\n",
    "\n",
    "We don't generally need to worry much about this, since we can generate the representation as earlier:"
   ]
  },
  {
   "cell_type": "code",
   "execution_count": null,
   "metadata": {
    "colab": {
     "base_uri": "https://localhost:8080/"
    },
    "id": "s4Xh-rTMcQLt",
    "outputId": "3b491658-28f6-498c-8f03-b98cd8d48630"
   },
   "outputs": [],
   "source": [
    "G = so2_group()\n",
    "\n",
    "rho = G.bl_regular_representation(7)\n",
    "\n",
    "\n",
    "# observe that each irrep is now repeated only once, even if some are 2-dimensional\n",
    "rho.irreps"
   ]
  },
  {
   "cell_type": "markdown",
   "metadata": {
    "id": "BfsEg4U8cQLt"
   },
   "source": [
    "## 2. From Group CNNs to Steerable CNNs\n"
   ]
  },
  {
   "cell_type": "markdown",
   "metadata": {
    "id": "MrCqjd6fcQLt"
   },
   "source": [
    "We consider a GCNN equivariant to a *semi-direct* product group $\\mathbb{R}^n \\rtimes G$, with compact group $G \\leq O(n)$.\n",
    "This setting covers equivariance to **isometries** (distance preserving transformations) of the Euclidean space $\\mathbb{R}^n$; in particular, it includes equivariance to *translations* in $\\mathbb{R}^n$ and to a origin-preserving symmetry $G$ (e.g. rotations or reflections in $n$-dimensions).\n",
    "We call $G$ a **point group**.\n",
    "\n",
    "If $G=O(n)$, the group of all rotations and reflections in $\\mathbb{R}^n$, then $E(n) = \\mathbb{R}^n \\rtimes O(n)$ is called the **Euclidean group**, and includes all isometries of $\\mathbb{R}^n$."
   ]
  },
  {
   "cell_type": "markdown",
   "metadata": {
    "id": "t8W8MoctMjn_"
   },
   "source": [
    "### 2.1 Feature Fields\n",
    "In a GCNN, a feature map is a signal $f: \\mathbb{R}^n \\times G \\to \\mathbb{R}$.\n",
    "The action of an element $(x, g) \\in \\mathbb{R}^n \\rtimes G$ is:\n",
    "\n",
    "$$ [(x, g).f](y,h):= f(g^{-1}(y-x), g^{-1}h) $$\n",
    "\n",
    "where $x, y \\in \\mathbb{R}^n$ and $g, h \\in G$."
   ]
  },
  {
   "cell_type": "markdown",
   "metadata": {
    "id": "s0-9VSbwcQLu"
   },
   "source": [
    "---\n",
    "\n",
    "#### QUESTION 7\n",
    "Prove the action has indeed this form.\n",
    "\n",
    "#### ANSWER 7\n",
    "\n",
    "\n",
    "\n",
    "\n",
    "---"
   ]
  },
  {
   "cell_type": "markdown",
   "metadata": {
    "id": "pTJxbzY4cQLu"
   },
   "source": [
    "In a GCNN, a feature map $f$ is stored as a multi-dimensional array with an axis for each of the $n$ spatial dimensions and one for the group $G$.\n",
    "\n",
    "In a steerable CNN, we replace the $G$ axis with a \"Fourier\" axis, which contains $c$ Fourier coefficients used to parameterize a function over $G$, as described in the previous section.\n",
    "Again, let's call $\\rho: G \\to \\mathbb{R}^{c \\times c}$ the representation of $G$ acting on these $c$ coefficients.\n",
    "The result is equivalent to a standard GCNN if $G$ is finite (and we have $c = |G|$), but we can now also use infinite $G$, such as $SO(2)$.\n",
    "\n",
    "\n",
    "A feature map $f$ can now be interpreted as a vector field on the space $\\mathbb{R}^n$, i.e.:\n",
    "$$ f: \\mathbb{R}^n \\to \\mathbb{R}^c $$\n",
    "\n",
    "which assigns a $c$-dimensional feature vector $f(x)\\in\\mathbb{R}^c$ to each spatial position $x\\in\\mathbb{R}^n$.\n",
    "We call such vector field a **feature vector field**.\n",
    "\n",
    "The action of $\\mathbb{R}^n \\rtimes G$ on one such feature vector field is defined as:\n",
    "\n",
    "$$ [(x, g).f](y):= \\rho(g) f(g^{-1}(y-x)) $$\n",
    "\n",
    "where $x, y \\in \\mathbb{R}^n$ and $g \\in G$."
   ]
  },
  {
   "cell_type": "markdown",
   "metadata": {
    "id": "x7wievExcQLu"
   },
   "source": [
    "---\n",
    "\n",
    "#### QUESTION 8\n",
    "Prove that this is indeed the right action of $\\mathbb{R}^n \\rtimes G$ on the feature vector field $f: \\mathbb{R}^n \\to \\mathbb{R}^c$.\n",
    "Recall the action of this group over the functions of the form $\\underline{f}: \\mathbb{R}^n \\rtimes G \\to \\mathbb{R}$ that we described earlier.\n",
    "Moreover, note that the vector $f(x) \\in \\mathbb{R}^c$ contains the $c$ Fourier coefficients of the function $\\underline{f}(x, \\cdot) : G \\to \\mathbb{R}$ along its $G$ axis, i.e.:\n",
    "$$ \n",
    "    f(x) = \\bigoplus_{\\rho_j} \\text{vec}\\left(\\widehat{\\underline{f}(x, \\cdot)}(\\rho_j)\\right)\n",
    "$$\n",
    "\n",
    "#### ANSWER 8:\n",
    "\n",
    "\n",
    "\n",
    "---"
   ]
  },
  {
   "cell_type": "markdown",
   "metadata": {
    "id": "EX2IVGuTcQLu"
   },
   "source": [
    "### General Steerable CNNs\n",
    "The framework of Steerable CNNs is actually more general and allows for any representation $\\rho$ of $G$.\n",
    "A different choice of $\\rho$ generally require some structural change in the architecture, e.g. by adapting the non-linearity used to ensure equivariance.\n",
    "Anyways, for simplicity, we will stick with the Fourier example in this tutorial.\n"
   ]
  },
  {
   "cell_type": "markdown",
   "metadata": {
    "id": "hn9ztlcjcQLu"
   },
   "source": [
    "Throughout the rest of this tutorial, we will assume $n=2$ for simplicity.\n",
    "That means we will be working for example with planar images and with the isometries of the plane (2D rotations or mirroring).\n",
    "The actions of $g \\in G=SO(2)$ on two examples of feature vector fields over $\\mathbb{R}^2$ are shown next.\n",
    "On the left, $\\rho$ is the trivial representation of $SO(2)$ while, on the right, $\\rho$ is the representation of $SO(2)$ as $2\\times 2$ rotation matrices."
   ]
  },
  {
   "cell_type": "markdown",
   "metadata": {
    "id": "npYYVFKNcQLu"
   },
   "source": [
    "![feature field examples](https://github.com/QUVA-Lab/e2cnn/raw/master/visualizations/feature_fields.png)"
   ]
  },
  {
   "cell_type": "markdown",
   "metadata": {
    "id": "bBCJq30ycQLu"
   },
   "source": [
    "### 2.2 Defining a Steerable CNN"
   ]
  },
  {
   "cell_type": "markdown",
   "metadata": {
    "id": "oHD8hI5fcQLv"
   },
   "source": [
    "We can now proceed with building a Steerable CNN.\n",
    "First we import some other useful packages."
   ]
  },
  {
   "cell_type": "code",
   "execution_count": null,
   "metadata": {
    "id": "E9TilpbScQLv"
   },
   "outputs": [],
   "source": [
    "from escnn import group\n",
    "from escnn import gspaces\n",
    "from escnn import nn"
   ]
  },
  {
   "cell_type": "markdown",
   "metadata": {
    "id": "xPhRRlFDM0wm"
   },
   "source": [
    "First, we need to choose the group $G$ of point symmetries (reflections and rotations) which are being considered.\n",
    "All of these choices are subgroups $G\\leq O(2)$ of the orthogonal group.\n",
    "\n",
    "For simplicity, we first consider the *finite* group $G=C_4$, which models the $4$ *rotations* by angle $\\theta \\in \\big\\{0, \\frac{\\pi}{2}, \\pi, \\frac{3\\pi}{2}\\big\\}$.\n",
    "Because these are perfect symmetries of the grid, transforming an image with this group does not require any interpolation.\n",
    "We will later extend our examples to an infinite group such as $SO(2)$ or $O(2)$.\n",
    "\n",
    "Recall that a semi-direct product $\\mathbb{R}^2 \\rtimes G$ is defined by $G$ but also by the action of $G$ on $\\mathbb{R}^2$.\n",
    "We determine both the **point group** $G$ and its **action on the space** $\\mathbb{R}^2$  by instantiating a subclass of `gspace.GSpace`.\n",
    "For the rotational action of $G=C_4$ on $\\mathbb{R}^2$ this is done by:"
   ]
  },
  {
   "cell_type": "code",
   "execution_count": null,
   "metadata": {
    "colab": {
     "base_uri": "https://localhost:8080/"
    },
    "id": "GtrK5XjccQLv",
    "outputId": "63cb72f2-e088-4b42-ce08-d2c26db47d19"
   },
   "outputs": [],
   "source": [
    "r2_act = gspaces.rot2dOnR2(N=4)\n",
    "r2_act"
   ]
  },
  {
   "cell_type": "code",
   "execution_count": null,
   "metadata": {
    "colab": {
     "base_uri": "https://localhost:8080/"
    },
    "id": "QS4UPsa3RfBB",
    "outputId": "53885ae7-8d46-4b58-92be-1b4a76cd4856"
   },
   "outputs": [],
   "source": [
    "# we can access the group G as\n",
    "G = r2_act.fibergroup\n",
    "G"
   ]
  },
  {
   "cell_type": "markdown",
   "metadata": {
    "id": "rpQ3HO_tcQLv"
   },
   "source": [
    "Having specified the symmetry transformation on the *base space* $\\mathbb{R}^2$, we next need to define the representation $\\rho: G \\to \\mathbb{R}^{c \\times c}$ which describes how a **feature vector field** $f : \\mathbb{R}^2 \\to \\mathbb{R}^c$ transforms under the action of $G$.\n",
    "This transformation law of feature fields is implemented by  ``nn.FieldType``.\n",
    "\n",
    "We instantiate the `nn.FieldType` modeling a GCNN feature by passing it the `gspaces.GSpace` instance and the *regular representation* of $G=C_4$.\n",
    "We call a feature field associated with the regular representation $\\rho_\\text{reg}$ a **regular feature field**."
   ]
  },
  {
   "cell_type": "code",
   "execution_count": null,
   "metadata": {
    "colab": {
     "base_uri": "https://localhost:8080/"
    },
    "id": "1HcUHvbHRS1z",
    "outputId": "b758e594-2a4f-48df-ab7b-1211009a02f4"
   },
   "outputs": [],
   "source": [
    "feat_type = nn.FieldType(r2_act, [G.regular_representation])\n",
    "feat_type"
   ]
  },
  {
   "cell_type": "markdown",
   "metadata": {
    "id": "N7iQyWXgZxHx"
   },
   "source": [
    "Recall that the regular representation of a finite group $G$ built by `G.regular_representation` is a permutation matrix of shape $|G| \\times |G|$:"
   ]
  },
  {
   "cell_type": "code",
   "execution_count": null,
   "metadata": {
    "colab": {
     "base_uri": "https://localhost:8080/"
    },
    "id": "yLHOXaPmZ9zw",
    "outputId": "6c3af2a4-5e21-479f-c362-0f4b36af49a7"
   },
   "outputs": [],
   "source": [
    "G.regular_representation(G.sample())"
   ]
  },
  {
   "cell_type": "markdown",
   "metadata": {
    "id": "_RWv1FOrQXqO"
   },
   "source": [
    "#### Deep Feature spaces\n",
    "The deep feature spaces of a GCNN typically comprise multiple channels.\n",
    "Similarly, the feature spaces of a steerable CNN can include multiple independent feature fields.\n",
    "This is achieved via **direc sum**, but stacking multiple copies of $\\rho$.\n",
    "\n",
    "For example, we can use $3$ copies of the regular representation $\\rho_\\text{reg}: G \\to \\mathbb{R}^{|G|}$.\n",
    "The full feature space is in this case modeled as a *stacked* field $f: \\mathbb{R}^2 \\to \\mathbb{R}^{3|G|}$ which transforms according to the **direct sum** of three regular representations:\n",
    "\n",
    "$$\n",
    "\\rho(r_\\theta)\n",
    "    \\ =\\ \\rho_\\text{reg}(r_\\theta) \\oplus \\rho_\\text{reg}(r_\\theta) \\oplus \\rho_\\text{reg}(r_\\theta)\n",
    "    \\ =\\ \\begin{bmatrix} \n",
    "            \\rho_\\text{reg}(\\theta) & 0 & 0 \\\\\n",
    "            0 & \\rho_\\text{reg}(\\theta) & 0 \\\\\n",
    "            0 & 0 & \\rho_\\text{reg}(\\theta) \\\\\n",
    "          \\end{bmatrix}\n",
    "          \\quad\\in\\ \\mathbb{R}^{3|G| \\times 3|G|}\n",
    "$$\n",
    "\n",
    "We instantiate a `nn.FieldType` composed of $3$ regular representations by passing the full field representation as a list of three regular representations:\n"
   ]
  },
  {
   "cell_type": "code",
   "execution_count": null,
   "metadata": {
    "colab": {
     "base_uri": "https://localhost:8080/"
    },
    "id": "dc0pd9W7TVrR",
    "outputId": "f109a7d2-c4c3-47ec-c298-c5a8d8e118bf"
   },
   "outputs": [],
   "source": [
    "# Technically, one can also construct the direct-sum representation G.regular_representation + G.regular_representation + G.regular_representation as done \n",
    "# before. Passing a list containing 3 copies of G.regular_representation allows for more efficient implementation of certain operations internally.\n",
    "feat_type = nn.FieldType(r2_act, [G.regular_representation]*3)\n",
    "feat_type"
   ]
  },
  {
   "cell_type": "markdown",
   "metadata": {
    "id": "fvxqTdJURs6C"
   },
   "source": [
    "#### Input Features\n",
    "Each hidden layer of a steerable CNN has its own transformation law which the user needs to specify (equivalent to the choice of number of channels in each layer of a conventional CNN). \n",
    "The *input* and *output* of a steerable CNN are also feature fields and their type (i.e. transformation law) is typically determined by the inference task.\n",
    "\n",
    "The most common example is that of gray-scale input images.\n",
    "A rotation of a gray-scale image is performed by moving each pixel to a new position without changing their intensity values.\n",
    "The invariance of the scalar pixel values under rotations is modeled by the **trivial representation** $\\rho_0: G\\to\\mathbb{R},\\ g\\mapsto 1$ of $G$ and identifies them as **scalar fields**.\n",
    "Formally, a scalar field is a function $f: \\mathbb{R}^2 \\to \\mathbb{R}$ mapping to a feature vector with $c=1$ channels.\n",
    "A rotation $r_\\theta \\in C_4$ transforms this scalar field as\n",
    "\n",
    "$$ \\big[r_{\\theta}\\,. f\\big](x)\n",
    "   \\ :=\\ \\rho_0(r_\\theta)\\,f\\big(r_\\theta^{-1}x\\big)\n",
    "   \\ =\\ 1\\cdot f\\big(r_\\theta^{-1}x\\big)\n",
    "   \\ =\\ f\\big(r_\\theta^{-1}x\\big) \\ .\n",
    "$$\n",
    "\n",
    "\n",
    "We instantiate the `nn.FieldType` modeling a gray-scale image by passing it the trivial representation of $G$:"
   ]
  },
  {
   "cell_type": "code",
   "execution_count": null,
   "metadata": {
    "colab": {
     "base_uri": "https://localhost:8080/"
    },
    "id": "NMTEZGYicQLw",
    "outputId": "79acd2c7-599d-4b54-ca45-146b25f5c25d"
   },
   "outputs": [],
   "source": [
    "feat_type_in = nn.FieldType(r2_act, [G.trivial_representation])\n",
    "feat_type_in"
   ]
  },
  {
   "cell_type": "markdown",
   "metadata": {
    "id": "0l2ascq8cQLw"
   },
   "source": [
    "#### Equivariant Layers\n",
    "\n",
    "When we build a model **equivariant** to a group $G$, we require that the output produced by the model transforms consistently when the input transforms under the action of an element $g \\in G$.\n",
    "For a function $F$ (e.g. a neural network), the **equivariance constraint** requires:\n",
    "\n",
    "$$ \\mathcal{T}^\\text{out}_g \\big[F(x)\\big]\\ =\\ F\\big(\\mathcal{T}^\\text{in}_g[x]\\big) \\quad \\forall g\\in G$$\n",
    "\n",
    "where $\\mathcal{T}^\\text{in}_g$ is the transformation of the input by the group element $g$ while $\\mathcal{T}^\\text{out}_g$ is the transformation of the output by the same element.\n",
    "The *field type* `feat_type_in` we have just defined above precisely describes $\\mathcal{T}^\\text{in}$. \n",
    "The transformation law $\\mathcal{T}^\\text{out}$ of the output of the first layer is similarly chosen by defining an instance `feat_type_out` of `nn.FieldType`.\n",
    "\n",
    "For example, let's use $3$ *regular feature fields* in output:"
   ]
  },
  {
   "cell_type": "code",
   "execution_count": null,
   "metadata": {
    "id": "CKR3ape0cQLw"
   },
   "outputs": [],
   "source": [
    "feat_type_out = nn.FieldType(r2_act, [G.regular_representation]*3)"
   ]
  },
  {
   "cell_type": "markdown",
   "metadata": {
    "id": "YhhZ6uPBa3A0"
   },
   "source": [
    "As a shortcut, we can also use:"
   ]
  },
  {
   "cell_type": "code",
   "execution_count": null,
   "metadata": {
    "id": "1UzV5jQma6WR"
   },
   "outputs": [],
   "source": [
    "feat_type_in = nn.FieldType(r2_act, [r2_act.trivial_repr])\n",
    "feat_type_out = nn.FieldType(r2_act, [r2_act.regular_repr]*3)"
   ]
  },
  {
   "cell_type": "markdown",
   "metadata": {
    "id": "5qxhwT14cQMx"
   },
   "source": [
    "Once having defined how the input and output feature spaces should transform, we can build neural network functions as **equivariant modules**.\n",
    "These are implemented as subclasses of an abstract base class `nn.EquivariantModule` which itself inherits from `torch.nn.Module`.\n",
    "\n",
    "**Equivariant Convolution Layer**: We start by instantiating a convolutional layer that maps between fields of types `feat_type_in` and `feat_type_out`.\n",
    "\n",
    "Let $\\rho_\\text{in}: G \\to \\mathbb{R}^{c_\\text{in} \\times c_\\text{in}}$ and $\\rho_\\text{out}: G \\to \\mathbb{R}^{c_\\text{out} \\times c_\\text{out}}$ be respectively the representations of $G$ associated with `feat_type_in` and `feat_type_out`.\n",
    "Then, an equivariant convolution layer is a standard convolution layer with a filter $k: \\mathbb{R}^2 \\to \\mathbb{R}^{c_\\text{out} \\times c_\\text{in}}$ (note the number of input and output channels) which satisfies a particular **steerability constraint**:\n",
    "$$\n",
    "\\forall g \\in G, x \\in \\mathbb{R}^2 \\quad k(g.x) = \\rho_\\text{out}(g) k(x) \\rho_\\text{in}(g)^{-1}\n",
    "$$\n",
    "\n",
    "In particular, the use of convolution guarantees the translation equivariance, while the fact the filters satisfy this steerability constraint guarantees the $G$-equivairance.\n"
   ]
  },
  {
   "cell_type": "markdown",
   "metadata": {
    "id": "tkIZ3Te3EAu8"
   },
   "source": [
    "---\n",
    "\n",
    "#### QUESTION 9\n",
    "\n",
    "Show that if a filter $k: \\mathbb{R}^2 \\to \\mathbb{R}^{c_\\text{out} \\times c_\\text{in}}$ satisfies the constraint above, the convolution with it is equivariant to $G$, i.e. show that\n",
    "$$\n",
    "  f_\\text{out} = k \\star f_\\text{in} \\implies [g.f_\\text{out}] = k \\star [g.f_\\text{in}]\n",
    "$$\n",
    "\n",
    "for all $g \\in G$.\n",
    "\n",
    "The action on the features $f_\\text{in}$ and $f_\\text{out}$ is the one previously defined, i.e:\n",
    "$$\n",
    "  [g.f_\\text{in}](x) = \\rho_\\text{in}(g) f(g^{-1}x)\n",
    "$$\n",
    "\n",
    "and \n",
    "$$\n",
    "  [g.f_\\text{out}](x) = \\rho_\\text{out}(g) f(g^{-1}x)\n",
    "$$\n",
    "\n",
    "while the convolution is defined as\n",
    "$$\n",
    "  f_\\text{out}(y) = [k \\star f_\\text{in}](y) = \\int_{\\mathbb{R}^2} k(x-y) f_\\text{in}(x) dx\n",
    "$$\n",
    "\n",
    "#### ANSWER 9\n",
    "\n",
    "\n",
    "\n",
    "---"
   ]
  },
  {
   "cell_type": "markdown",
   "metadata": {
    "id": "fm5WY-HdD-pr"
   },
   "source": [
    "The steerability constraint restricts the space of possible learnable filters to a smaller space of equivariant filters.\n",
    "Solving this constraint goes beyond the scope of this tutorial; fortunately, the `nn.R2Conv` module takes care of properly parameterizing the filter $k$ such that it satisfies the constraint."
   ]
  },
  {
   "cell_type": "code",
   "execution_count": null,
   "metadata": {
    "id": "fHMs8D-fcQMx"
   },
   "outputs": [],
   "source": [
    "conv = nn.R2Conv(feat_type_in, feat_type_out, kernel_size=3)"
   ]
  },
  {
   "cell_type": "markdown",
   "metadata": {
    "id": "kvWkbVAJcQMx"
   },
   "source": [
    "Each equivariant module has an input and output type.\n",
    "As a function (`.forward()`), it *requires* its inputs to transform according to its input type and is guaranteed to return feature fields associated with its output type.\n",
    "To prevent the user from accidentally feeding an incorrectly transforming input field into an equivariant module, we perform a dynamic type checking.\n",
    "In order to do so, we define **geometric tensors** as data containers.\n",
    "They are wrapping a *PyTorch* `torch.Tensor` to augment them with an instance of `FieldType`.\n",
    "\n",
    "Let's build a few random 32x32 gray-scale images and wrap them into an `nn.GeometricTensor`:"
   ]
  },
  {
   "cell_type": "code",
   "execution_count": null,
   "metadata": {
    "id": "2FH6tglrcQMy"
   },
   "outputs": [],
   "source": [
    "x = torch.randn(4, 1, 32, 32)\n",
    "# FieldType is a callable object; its call method can be used to wrap PyTorch tensors into GeometricTensors\n",
    "x = feat_type_in(x)\n",
    "\n",
    "assert isinstance(x.tensor, torch.Tensor)\n",
    "assert isinstance(x, nn.GeometricTensor)"
   ]
  },
  {
   "cell_type": "markdown",
   "metadata": {
    "id": "MkgNfFM1cQMy"
   },
   "source": [
    "As usually done in *PyTorch*, an image or feature map is stored in a 4-dimensional array of shape BxCxHxW, where B is the batch-size, C is the number of channels and W and H are the spatial dimensions."
   ]
  },
  {
   "cell_type": "markdown",
   "metadata": {
    "id": "_inH8X-zcQMy"
   },
   "source": [
    "We can feed a geometric tensor to an equivariant module as we feed normal tensors in *PyTorch*'s modules:"
   ]
  },
  {
   "cell_type": "code",
   "execution_count": null,
   "metadata": {
    "id": "3FidAyDccQMy"
   },
   "outputs": [],
   "source": [
    "y = conv(x)"
   ]
  },
  {
   "cell_type": "markdown",
   "metadata": {
    "id": "iPzlskTvcQMy"
   },
   "source": [
    "We can verify that the output is indeed associated with the output type of the convolutional layer:"
   ]
  },
  {
   "cell_type": "code",
   "execution_count": null,
   "metadata": {
    "id": "0C-TI2XucQMy",
    "scrolled": true
   },
   "outputs": [],
   "source": [
    "assert y.type == feat_type_out"
   ]
  },
  {
   "cell_type": "markdown",
   "metadata": {
    "id": "MQfGtWyKcQMy"
   },
   "source": [
    "Lets check whether the output transforms as described by the output type when the input transforms according to the input type.\n",
    "The $G$-transformation of a geometric tensor is hereby conveniently done by calling `nn.GeometricTensor.transform()`."
   ]
  },
  {
   "cell_type": "code",
   "execution_count": null,
   "metadata": {
    "id": "2blpKyR4cQMz"
   },
   "outputs": [],
   "source": [
    "# for each group element\n",
    "for g in G.elements:\n",
    "    # transform the input with the current group element according to the input type\n",
    "    x_transformed = x.transform(g)\n",
    "    \n",
    "    # feed the transformed input in the convolutional layer\n",
    "    y_from_x_transformed = conv(x_transformed)\n",
    "    \n",
    "    # the result should be equivalent to rotating the output produced in the \n",
    "    # previous block according to the output type\n",
    "    y_transformed_from_x = y.transform(g)\n",
    "    assert torch.allclose(y_from_x_transformed.tensor, y_transformed_from_x.tensor, atol=1e-5), g"
   ]
  },
  {
   "cell_type": "markdown",
   "metadata": {
    "id": "JlVmEn4ocQMz"
   },
   "source": [
    "Any network operation is required to be equivariant.\n",
    "`escnn.nn` provides a wide range of equivariant network modules which guarantee this behavior.\n",
    "\n",
    "**Non-Linearities**: \n",
    "As an example, we will next apply an *equivariant nonlinearity* to the output feature field of the convolution.\n",
    "Since the regular representations of a finite group $G$ consists of permutation matrices, any pointwise nonlinearity like *ReLUs* is equivariant.\n",
    "Note that this is *not* the case for many other choices of representations / field types!\n",
    "\n",
    "We instantiate a `escnn.nn.ReLU`, which, as an `nn.EquivariantModule`, requires to be informed about its input type to be able to perform the type checking.\n",
    "Here we are passing `feat_type_out`, the output of the equivariant convolution layer, as input type.\n",
    "It is not necessary to pass an output type to the nonlinearity since this is here determined by its input type."
   ]
  },
  {
   "cell_type": "code",
   "execution_count": null,
   "metadata": {
    "id": "Ja5uesnlcQMz"
   },
   "outputs": [],
   "source": [
    "relu = nn.ReLU(feat_type_out)\n",
    "\n",
    "z = relu(y)"
   ]
  },
  {
   "cell_type": "markdown",
   "metadata": {
    "id": "BX-dHFVvcQMz"
   },
   "source": [
    "We can verify the equivariance again:"
   ]
  },
  {
   "cell_type": "code",
   "execution_count": null,
   "metadata": {
    "id": "JjdjyzF-cQMz"
   },
   "outputs": [],
   "source": [
    "# for each group element\n",
    "for g in G.elements:\n",
    "    y_transformed = y.transform(g)\n",
    "    z_from_y_transformed = relu(y_transformed)\n",
    "    \n",
    "    z_transformed_from_y = z.transform(g)\n",
    "    \n",
    "    assert torch.allclose(z_from_y_transformed.tensor, z_transformed_from_y.tensor, atol=1e-5), g"
   ]
  },
  {
   "cell_type": "markdown",
   "metadata": {
    "id": "NAnTVtIucQMz"
   },
   "source": [
    "**Deeper Models**: In *deep learning* we usually want to stack multiple layers to build a deep model.\n",
    "As long as each layer is equivariant and consecutive layers are compatible, the equivariance property is preserved by induction.\n",
    "\n",
    "The compatibility of two consecutive layers requires the output type of the first layer to be equal to the input type of the second layer.\n",
    "\n",
    "In case we feed an input with the wrong type to a module, an error is raised:"
   ]
  },
  {
   "cell_type": "code",
   "execution_count": null,
   "metadata": {
    "colab": {
     "base_uri": "https://localhost:8080/"
    },
    "id": "z3EGMW1HcQM0",
    "outputId": "ec815185-1d47-4893-9980-f1cde085e68b"
   },
   "outputs": [],
   "source": [
    "layer1 = nn.R2Conv(feat_type_in, feat_type_out, kernel_size=3)\n",
    "layer2 = nn.ReLU(feat_type_in) # the input type of the ReLU should be the output type of the convolution\n",
    "\n",
    "x = feat_type_in(torch.randn(3, 1, 7, 7))\n",
    "\n",
    "try:\n",
    "    y = layer2(layer1(x))\n",
    "except AssertionError as e:\n",
    "    print(e)"
   ]
  },
  {
   "cell_type": "markdown",
   "metadata": {
    "id": "Zt3KkNUTcQM0"
   },
   "source": [
    "Simple deeper architectures can be built using a **SequentialModule**:"
   ]
  },
  {
   "cell_type": "code",
   "execution_count": null,
   "metadata": {
    "id": "XDjfrUpYcQM0"
   },
   "outputs": [],
   "source": [
    "feat_type_in = nn.FieldType(r2_act, [r2_act.trivial_repr])\n",
    "feat_type_hid = nn.FieldType(r2_act, 8*[r2_act.regular_repr])\n",
    "feat_type_out = nn.FieldType(r2_act, 2*[r2_act.regular_repr])\n",
    "\n",
    "model = nn.SequentialModule(\n",
    "    nn.R2Conv(feat_type_in, feat_type_hid, kernel_size=3),\n",
    "    nn.InnerBatchNorm(feat_type_hid),\n",
    "    nn.ReLU(feat_type_hid, inplace=True),\n",
    "    nn.R2Conv(feat_type_hid, feat_type_hid, kernel_size=3),\n",
    "    nn.InnerBatchNorm(feat_type_hid),\n",
    "    nn.ReLU(feat_type_hid, inplace=True),\n",
    "    nn.R2Conv(feat_type_hid, feat_type_out, kernel_size=3),\n",
    ").eval()\n"
   ]
  },
  {
   "cell_type": "markdown",
   "metadata": {
    "id": "QRs_N_TqcQM0"
   },
   "source": [
    "As every layer is equivariant and consecutive layers are compatible, the whole model is equivariant."
   ]
  },
  {
   "cell_type": "code",
   "execution_count": null,
   "metadata": {
    "id": "qOM5wHTccQM0"
   },
   "outputs": [],
   "source": [
    "x = torch.randn(1, 1, 17, 17)\n",
    "x = feat_type_in(x)\n",
    "\n",
    "y = model(x)\n",
    "\n",
    "# for each group element\n",
    "for g in G.elements:\n",
    "    x_transformed = x.transform(g)\n",
    "    y_from_x_transformed = model(x_transformed)\n",
    "    \n",
    "    y_transformed_from_x = y.transform(g)\n",
    "    \n",
    "    assert torch.allclose(y_from_x_transformed.tensor, y_transformed_from_x.tensor, atol=1e-5), g"
   ]
  },
  {
   "cell_type": "markdown",
   "metadata": {
    "id": "sdVdUVntcQM1"
   },
   "source": [
    "**Invariant Pooling Layer**: Usually, at the end of the model we want to produce a single feature vector to use for classification.\n",
    "To do so, it is common to pool over the spatial dimensions, e.g. via average pooling.\n",
    "\n",
    "This produces (approximatively) translation-invariant feature vectors."
   ]
  },
  {
   "cell_type": "code",
   "execution_count": null,
   "metadata": {
    "colab": {
     "base_uri": "https://localhost:8080/"
    },
    "id": "8DDnTO8DcQM1",
    "outputId": "854beb2d-8989-46a6-ad37-9d720366fda3"
   },
   "outputs": [],
   "source": [
    "# average pooling with window size 11\n",
    "avgpool = nn.PointwiseAvgPool(feat_type_out, 11)\n",
    "\n",
    "y = avgpool(model(x))\n",
    "\n",
    "print(y.shape)"
   ]
  },
  {
   "cell_type": "markdown",
   "metadata": {
    "id": "oIbR_0GtcQM1"
   },
   "source": [
    "In our case, the feature vectors $f(x)\\in\\mathbb{R}^c$ associated to each point $x\\in\\mathbb{R}^2$ have a well defined transformation law.\n",
    "The output of the model now transforms according to `feat_type_out` (here two $C_4$ regular fields, i.e. 8 channels).\n",
    "For our choice of regular representations (which are permutation representations) the channels in the feature vectors associated to each point permute when the input is rotated."
   ]
  },
  {
   "cell_type": "code",
   "execution_count": null,
   "metadata": {
    "colab": {
     "base_uri": "https://localhost:8080/"
    },
    "id": "LNtReKgUcQM1",
    "outputId": "93f07723-a8b2-4840-e368-f241adf42e41"
   },
   "outputs": [],
   "source": [
    "for g in G.elements:\n",
    "    print(f'rotation by {g}:', y.transform(g).tensor[0, ...].detach().numpy().squeeze())"
   ]
  },
  {
   "cell_type": "markdown",
   "metadata": {
    "id": "b9k0MPvucQM1"
   },
   "source": [
    "Many learning tasks require to build models which are **invariant** under rotations.\n",
    "We can compute invariant features from the output of the model using an **invariant map**.\n",
    "For instance, we can take the maximum value within each regular field.\n",
    "We do so using `nn.GroupPooling`:"
   ]
  },
  {
   "cell_type": "code",
   "execution_count": null,
   "metadata": {
    "colab": {
     "base_uri": "https://localhost:8080/"
    },
    "id": "DUAvcM3UcQM2",
    "outputId": "cae3c6ff-9883-42ae-a9ab-6b7b0e73cd50"
   },
   "outputs": [],
   "source": [
    "invariant_map = nn.GroupPooling(feat_type_out)\n",
    "\n",
    "y = invariant_map(avgpool(model(x)))\n",
    "\n",
    "for g in G.elements:\n",
    "    print(f'rotation by {g}:', y.transform(g).tensor[0, ...].detach().numpy().squeeze())"
   ]
  },
  {
   "cell_type": "code",
   "execution_count": null,
   "metadata": {
    "id": "yVY711w-cQM2"
   },
   "outputs": [],
   "source": [
    "# for each group element\n",
    "for g in G.elements:\n",
    "    # rotated the input image\n",
    "    x_transformed = x.transform(g)\n",
    "    y_from_x_transformed = invariant_map(avgpool(model(x_transformed)))\n",
    "    \n",
    "    y_transformed_from_x = y # no .transform(g) needed since y should be invariant!\n",
    "    \n",
    "    # check that the output did not change\n",
    "    # note that here we are not rotating the original output y as before\n",
    "    assert torch.allclose(y_from_x_transformed.tensor, y_transformed_from_x.tensor, atol=1e-6), g"
   ]
  },
  {
   "cell_type": "markdown",
   "metadata": {
    "id": "JSJNcJUKBpuK"
   },
   "source": [
    "### 2.3 Steerable CNN with infinite group $G$\n",
    "\n",
    "We can now repeat the same constructions with $G$ being an infinite group, e.g. the group of all planar rotations $G=SO(2)$."
   ]
  },
  {
   "cell_type": "code",
   "execution_count": null,
   "metadata": {
    "colab": {
     "base_uri": "https://localhost:8080/"
    },
    "id": "LHJGeENZGgPV",
    "outputId": "1afbd84c-9635-47c6-bb07-5cdc32e91c1b"
   },
   "outputs": [],
   "source": [
    "# use N=-1 to indicate all rotations\n",
    "r2_act = gspaces.rot2dOnR2(N=-1)\n",
    "r2_act"
   ]
  },
  {
   "cell_type": "code",
   "execution_count": null,
   "metadata": {
    "colab": {
     "base_uri": "https://localhost:8080/"
    },
    "id": "p-46yXnCGowV",
    "outputId": "da0b5e6e-a6be-43e5-9a2f-e1ac7d099e9d"
   },
   "outputs": [],
   "source": [
    "G = r2_act.fibergroup\n",
    "G"
   ]
  },
  {
   "cell_type": "code",
   "execution_count": null,
   "metadata": {
    "id": "BXGQWso9lKH1"
   },
   "outputs": [],
   "source": [
    "# For simplicity we take a single-channel gray-scale image in input and we output a single-channel gray-scale image, i.e. we use scalar fields in input and output\n",
    "feat_type_in = nn.FieldType(r2_act, [G.trivial_representation])\n",
    "feat_type_out = nn.FieldType(r2_act, [G.trivial_representation])"
   ]
  },
  {
   "cell_type": "markdown",
   "metadata": {
    "id": "RzGYVFqllf0O"
   },
   "source": [
    "As intermidiate feature types, we want to use again the *regular representation*.\n",
    "Because $G$ has an infinite number of elements, we use use the Fourier transform idea described earlier.\n",
    "For example, we will use the first three irreps of $G=SO(2)$, which contains cosines and sines of frequency $0$, $1$ and $2$.\n",
    "Earlier, we built this representation as \n",
    "\n",
    "\n",
    "``rho = G.bl_regular_representation(2)``\n",
    "\n",
    "To apply a non-linearity, e.g. ELU, we can use the *Inverse Fourier Transform* to sample the function, apply the non-linearity and, finally, compute the *Fourier Transform* to recover the coeffients.\n",
    "Because $G$ has infinite elements, the Fourier Transform requires an integral over $G$; this can be **approximated** by a sum over a finite number of samples.\n",
    "The more samples one take, the better the approximation will be, although this also increase the computational cost.\n",
    "\n",
    "Fortunately, the class `nn.FourierELU` takes care of most of these details.\n",
    "We can just specify which `irreps` to consider (`G.bl_irreps(2)` returns the list of irreps up to frequency `2`), the number of `channels` (i.e. copies of the regular representation) and the number `N` of elements of $G$ where to sample the function:"
   ]
  },
  {
   "cell_type": "code",
   "execution_count": null,
   "metadata": {
    "id": "5xje7cC5leVu"
   },
   "outputs": [],
   "source": [
    "nonlinearity = nn.FourierELU(r2_act, 16, irreps=G.bl_irreps(2), N=12)\n",
    "# we do not need to pre-define the feature type: FourierELU will create it internally and we can just access it as\n",
    "feat_type_hid = nonlinearity.in_type\n",
    "\n",
    "# note also the its input and output types are the same\n",
    "assert nonlinearity.in_type == nonlinearity.out_type"
   ]
  },
  {
   "cell_type": "markdown",
   "metadata": {
    "id": "vuZrDNbPrag7"
   },
   "source": [
    "Let's build a simple $G=SO(2)$ equivariant model:"
   ]
  },
  {
   "cell_type": "code",
   "execution_count": null,
   "metadata": {
    "id": "ky4-B4u5GvfA"
   },
   "outputs": [],
   "source": [
    "\n",
    "equivariant_so2_model = nn.SequentialModule(\n",
    "    nn.R2Conv(feat_type_in, feat_type_hid, kernel_size=7),\n",
    "    nn.IIDBatchNorm2d(feat_type_hid),\n",
    "    nonlinearity,\n",
    "    nn.R2Conv(feat_type_hid, feat_type_hid, kernel_size=7),\n",
    "    nn.IIDBatchNorm2d(feat_type_hid),\n",
    "    nonlinearity,\n",
    "    nn.R2Conv(feat_type_hid, feat_type_out, kernel_size=7),\n",
    ").eval()"
   ]
  },
  {
   "cell_type": "markdown",
   "metadata": {
    "id": "9oEgHC6ero20"
   },
   "source": [
    "and check its equivariance to a few elements of $SO(2)$:"
   ]
  },
  {
   "cell_type": "code",
   "execution_count": null,
   "metadata": {
    "id": "XiJYMBghrx2A"
   },
   "outputs": [],
   "source": [
    "x = torch.randn(1, 1, 23, 23)\n",
    "x = feat_type_in(x)\n",
    "\n",
    "y = equivariant_so2_model(x)\n",
    "\n",
    "# check equivariance to N=16 rotations\n",
    "N = 16\n",
    "\n",
    "try:\n",
    "    for i in range(N):\n",
    "        g = G.element(i*2*np.pi/N)\n",
    "        x_transformed = x.transform(g)\n",
    "        y_from_x_transformed = equivariant_so2_model(x_transformed)\n",
    "\n",
    "        y_transformed_from_x = y.transform(g)\n",
    "\n",
    "        assert torch.allclose(y_from_x_transformed.tensor, y_transformed_from_x.tensor, atol=1e-3), g\n",
    "except:\n",
    "    print('Error! The model is not equivariant!')"
   ]
  },
  {
   "cell_type": "markdown",
   "metadata": {
    "id": "pw57cTedsMSI"
   },
   "source": [
    "---\n",
    "\n",
    "#### QUESTION 10\n",
    "The model is not perfectly equivariant to $G=SO(2)$ ! Why is this an expected behaviour?\n",
    "\n",
    "#### ANSWER 10\n",
    "\n",
    "\n",
    "---"
   ]
  },
  {
   "cell_type": "markdown",
   "metadata": {
    "id": "oE6qLnMtsetK"
   },
   "source": [
    "While the model can not be perfectly equivariant, we can compare it with a *conventional CNN* baseline.\n",
    "Let's build a CNN similar to our equivariant model but which is not constrained to be equivariant:"
   ]
  },
  {
   "cell_type": "code",
   "execution_count": null,
   "metadata": {
    "id": "OZ6ZiQQyrfue"
   },
   "outputs": [],
   "source": [
    "\n",
    "conventional_model = torch.nn.Sequential(\n",
    "    torch.nn.Conv2d(feat_type_in.size, feat_type_hid.size, kernel_size=7),\n",
    "    torch.nn.BatchNorm2d(feat_type_hid.size),\n",
    "    torch.nn.ELU(),\n",
    "    torch.nn.Conv2d(feat_type_hid.size, feat_type_hid.size, kernel_size=7),\n",
    "    torch.nn.BatchNorm2d(feat_type_hid.size),\n",
    "    torch.nn.ELU(),\n",
    "    torch.nn.Conv2d(feat_type_hid.size, feat_type_out.size, kernel_size=7),\n",
    ").eval()\n"
   ]
  },
  {
   "cell_type": "markdown",
   "metadata": {
    "id": "-IFq5k-isxyC"
   },
   "source": [
    "To compare the two models, we compute their *equivariance error* for a few elements of $G$.\n",
    "We define the equivariance error of a model $F$ with respect to a group element $g \\in G$ and an input $x$ as:\n",
    "$$\n",
    "  \\epsilon_g(F) = \\frac{||F(g.X) - g.F(X)||_2}{||F(x)||_2}\n",
    "$$\n",
    "\n",
    "Note that this is a form of *relative* error.\n",
    "Let's now compute the equivariance error of the two models:"
   ]
  },
  {
   "cell_type": "code",
   "execution_count": null,
   "metadata": {
    "colab": {
     "base_uri": "https://localhost:8080/",
     "height": 423
    },
    "id": "BuOcNrfOIX2V",
    "outputId": "571eb7cb-aadc-4da9-821d-8ded785eebae"
   },
   "outputs": [],
   "source": [
    "# let's generate a random image of shape W x W\n",
    "W = 37\n",
    "x = torch.randn(1, 1, W, W)\n",
    "\n",
    "# Because a rotation by an angle smaller than 90 degrees moves pixels outsize the image, we mask out all pixels outside the central disk\n",
    "# We need to do this both for the input and the output\n",
    "\n",
    "def build_mask(W):\n",
    "    center_mask = np.zeros((2, W, W))\n",
    "    center_mask[1, :, :] = np.arange(0, W) - W // 2\n",
    "    center_mask[0, :, :] = np.arange(0, W) - W // 2\n",
    "    center_mask[0, :, :] = center_mask[0, :, :].T\n",
    "    center_mask = center_mask[0, :, :] ** 2 + center_mask[1, :, :] ** 2 < .9*(W // 2) ** 2\n",
    "    center_mask = torch.tensor(center_mask.reshape(1, 1, W, W), dtype=torch.float)\n",
    "    return center_mask\n",
    "\n",
    "\n",
    "# create the mask for the input\n",
    "input_center_mask = build_mask(W)\n",
    "\n",
    "# mask the input image\n",
    "x = x * input_center_mask\n",
    "x = feat_type_in(x)\n",
    "\n",
    "# compute the output of both models\n",
    "y_equivariant = equivariant_so2_model(x)\n",
    "y_conventional = feat_type_out(conventional_model(x.tensor))\n",
    "\n",
    "# create the mask for the output images\n",
    "output_center_mask = build_mask(y_equivariant.shape[-1])\n",
    "\n",
    "# We evaluate the equivariance error on N=100 rotations\n",
    "N = 100\n",
    "\n",
    "error_equivariant = []\n",
    "error_conventional = []\n",
    "\n",
    "# for each of the N rotations\n",
    "for i in range(N+1):\n",
    "    g = G.element(i / N * 2*np.pi)\n",
    "\n",
    "    # rotate the input\n",
    "    x_transformed = x.transform(g)\n",
    "    x_transformed.tensor *= input_center_mask\n",
    "    \n",
    "    # F(g.X)  feed the transformed images in both models\n",
    "    y_from_x_transformed_equivariant = equivariant_so2_model(x_transformed).tensor\n",
    "    y_from_x_transformed_conventional = conventional_model(x_transformed.tensor)\n",
    "\n",
    "    # g.F(x)  transform the output of both models\n",
    "    y_transformed_from_x_equivariant = y_equivariant.transform(g)\n",
    "    y_transformed_from_x_conventional = y_conventional.transform(g)\n",
    "\n",
    "    # mask all the outputs\n",
    "    y_from_x_transformed_equivariant = y_from_x_transformed_equivariant * output_center_mask\n",
    "    y_from_x_transformed_conventional = y_from_x_transformed_conventional * output_center_mask\n",
    "    y_transformed_from_x_equivariant = y_transformed_from_x_equivariant.tensor * output_center_mask\n",
    "    y_transformed_from_x_conventional = y_transformed_from_x_conventional.tensor * output_center_mask\n",
    "    \n",
    "    # compute the relative error of both models\n",
    "    rel_error_equivariant = torch.norm(y_from_x_transformed_equivariant - y_transformed_from_x_equivariant).item() / torch.norm(y_equivariant.tensor).item()\n",
    "    rel_error_conventional = torch.norm(y_from_x_transformed_conventional - y_transformed_from_x_conventional).item() / torch.norm(y_conventional.tensor).item()\n",
    "\n",
    "    error_equivariant.append(rel_error_equivariant)\n",
    "    error_conventional.append(rel_error_conventional)\n",
    "\n",
    "# plot the error of both models as a function of the rotation angle theta\n",
    "fig, ax = plt.subplots(figsize=(10, 6))\n",
    "\n",
    "xs = [i*2*np.pi / N for i in range(N+1)]\n",
    "plt.plot(xs, error_equivariant, label='SO(2)-Steerable CNN')\n",
    "plt.plot(xs, error_conventional, label='Conventional CNN')\n",
    "plt.title('Equivariant vs Conventional CNNs', fontsize=20)\n",
    "plt.xlabel(r'$g = r_\\theta$', fontsize=20)\n",
    "plt.ylabel('Equivariance Error', fontsize=20)\n",
    "ax.tick_params(axis='both', which='major', labelsize=15)\n",
    "plt.legend(fontsize=20)\n",
    "plt.show()"
   ]
  },
  {
   "cell_type": "markdown",
   "metadata": {
    "id": "7K0Lti6wBLR5"
   },
   "source": [
    "## 3. Build and Train Steerable CNNs\n",
    "\n",
    "Finally, we will proceed with implementing a **Steerable CNN** and train it on rotated MNIST."
   ]
  },
  {
   "cell_type": "markdown",
   "metadata": {
    "id": "LbXKvGZM7sUI"
   },
   "source": [
    "### Dataset"
   ]
  },
  {
   "cell_type": "markdown",
   "metadata": {
    "id": "_BJSa9iJ4LF5"
   },
   "source": [
    "We will evaluate the model on the *rotated* MNIST dataset.\n",
    "First, we download the (non-rotated) MNIST 12k data:"
   ]
  },
  {
   "cell_type": "code",
   "execution_count": null,
   "metadata": {
    "colab": {
     "base_uri": "https://localhost:8080/"
    },
    "id": "ZLHXlWCLBZ_X",
    "outputId": "83ca8de9-b943-4bde-8831-bb745f83650e"
   },
   "outputs": [],
   "source": [
    "# download the dataset\n",
    "!wget -nc http://www.iro.umontreal.ca/~lisa/icml2007data/mnist.zip\n",
    "# uncompress the zip file\n",
    "!unzip -n mnist.zip -d mnist"
   ]
  },
  {
   "cell_type": "markdown",
   "metadata": {
    "id": "Xk4AEOO44Tcf"
   },
   "source": [
    "Then, we build the dataset and some utility functions:"
   ]
  },
  {
   "cell_type": "code",
   "execution_count": null,
   "metadata": {
    "id": "rFflGaisdyaN"
   },
   "outputs": [],
   "source": [
    "from torch.utils.data import Dataset\n",
    "from torchvision.transforms import RandomRotation\n",
    "from torchvision.transforms import Pad\n",
    "from torchvision.transforms import Resize\n",
    "from torchvision.transforms import ToTensor\n",
    "from torchvision.transforms import Compose\n",
    "from tqdm.auto import tqdm\n",
    "\n",
    "from PIL import Image\n",
    "\n",
    "device = 'cuda' if torch.cuda.is_available() else 'cpu'"
   ]
  },
  {
   "cell_type": "code",
   "execution_count": null,
   "metadata": {
    "id": "rFflGaisdyaN"
   },
   "outputs": [],
   "source": [
    "class MnistDataset(Dataset):\n",
    "    \n",
    "    def __init__(self, mode, rotated: bool = True):\n",
    "        assert mode in ['train', 'test']\n",
    "        \n",
    "        if mode == \"train\":\n",
    "            file = \"mnist/mnist_train.amat\"\n",
    "        else:\n",
    "            file = \"mnist/mnist_test.amat\"\n",
    "        \n",
    "        data = np.loadtxt(file)\n",
    "            \n",
    "        images = data[:, :-1].reshape(-1, 28, 28).astype(np.float32)\n",
    "               \n",
    "        # images are padded to have shape 29x29.\n",
    "        # this allows to use odd-size filters with stride 2 when downsampling a feature map in the model\n",
    "        pad = Pad((0, 0, 1, 1), fill=0)\n",
    "        \n",
    "        # to reduce interpolation artifacts (e.g. when testing the model on rotated images),\n",
    "        # we upsample an image by a factor of 3, rotate it and finally downsample it again\n",
    "        resize1 = Resize(87) # to upsample\n",
    "        resize2 = Resize(29) # to downsample\n",
    "\n",
    "        totensor = ToTensor()\n",
    "        \n",
    "        if rotated:\n",
    "            self.images = torch.empty((images.shape[0], 1, 29, 29))        \n",
    "            for i in tqdm(range(images.shape[0]), leave=False):\n",
    "                img = images[i]\n",
    "                img = Image.fromarray(img, mode='F')\n",
    "                r = (np.random.rand() * 360.)\n",
    "                self.images[i] = totensor(resize2(resize1(pad(img)).rotate(r, Image.BILINEAR))).reshape(1, 29, 29)\n",
    "        else:\n",
    "            self.images = torch.zeros((images.shape[0], 1, 29, 29))        \n",
    "            self.images[:, :, :28, :28] = torch.tensor(images).reshape(-1, 1, 28, 28)\n",
    "                \n",
    "        self.labels = data[:, -1].astype(np.int64)\n",
    "        self.num_samples = len(self.labels)\n",
    "    \n",
    "    def __getitem__(self, index):\n",
    "        image, label = self.images[index], self.labels[index]\n",
    "        \n",
    "        return image, label\n",
    "    \n",
    "    def __len__(self):\n",
    "        return len(self.labels)\n"
   ]
  },
  {
   "cell_type": "code",
   "execution_count": null,
   "metadata": {
    "id": "WlLm-AZ97jVg"
   },
   "outputs": [],
   "source": [
    "# Set the random seed for reproducibility\n",
    "np.random.seed(42)\n",
    "\n",
    "# build the rotated training and test datasets\n",
    "mnist_train = MnistDataset(mode='train', rotated=True)\n",
    "train_loader = torch.utils.data.DataLoader(mnist_train, batch_size=64)\n",
    "\n",
    "\n",
    "mnist_test = MnistDataset(mode='test', rotated=True)\n",
    "test_loader = torch.utils.data.DataLoader(mnist_test, batch_size=64)\n",
    "\n",
    "# for testing purpose, we also build a version of the test set with *non*-rotated digits\n",
    "raw_mnist_test = MnistDataset(mode='test', rotated=False)"
   ]
  },
  {
   "cell_type": "markdown",
   "metadata": {
    "id": "YNhKgypl7m0b"
   },
   "source": [
    "### $SO(2)$ equivariant architecture"
   ]
  },
  {
   "cell_type": "markdown",
   "metadata": {
    "id": "7K0Lti6wBLR5"
   },
   "source": [
    "We now build an $SO(2)$ equivariant CNN.\n",
    "\n",
    "Because the inputs are still gray-scale images, the input type of the model is again a *scalar field*.\n",
    "In the intermidiate layers, we will use *regular fields*, such that the models are equivalent to *group-equivariant convolutional neural networks* (GCNNs).\n",
    "\n",
    "The final classification is performed by a fully connected layer."
   ]
  },
  {
   "cell_type": "code",
   "execution_count": null,
   "metadata": {
    "id": "HuVS40JWzihp"
   },
   "outputs": [],
   "source": [
    "class SO2SteerableCNN(torch.nn.Module):\n",
    "    \n",
    "    def __init__(self, n_classes=10):\n",
    "        \n",
    "        super(SO2SteerableCNN, self).__init__()\n",
    "        \n",
    "        # the model is equivariant under all planar rotations\n",
    "        self.r2_act = gspaces.rot2dOnR2(N=-1)\n",
    "        \n",
    "        # the group SO(2)\n",
    "        self.G: SO2 = self.r2_act.fibergroup\n",
    "        \n",
    "        # the input image is a scalar field, corresponding to the trivial representation\n",
    "        in_type = nn.FieldType(self.r2_act, [self.r2_act.trivial_repr])\n",
    "        \n",
    "        # we store the input type for wrapping the images into a geometric tensor during the forward pass\n",
    "        self.input_type = in_type\n",
    "        \n",
    "        # We need to mask the input image since the corners are moved outside the grid under rotations\n",
    "        self.mask = nn.MaskModule(in_type, 29, margin=1)\n",
    "\n",
    "        # convolution 1\n",
    "        # first we build the non-linear layer, which also constructs the right feature type\n",
    "        # we choose 8 feature fields, each transforming under the regular representation of SO(2) up to frequency 3\n",
    "        # When taking the ELU non-linearity, we sample the feature fields on N=16 points\n",
    "        activation1 = nn.FourierELU(self.r2_act, 8, irreps=G.bl_irreps(3), N=16, inplace=True)\n",
    "        out_type = activation1.in_type\n",
    "        self.block1 = nn.SequentialModule(\n",
    "            nn.R2Conv(in_type, out_type, kernel_size=7, padding=1, bias=False),\n",
    "            nn.IIDBatchNorm2d(out_type),\n",
    "            activation1,\n",
    "        )\n",
    "        \n",
    "        # convolution 2\n",
    "        # the old output type is the input type to the next layer\n",
    "        in_type = self.block1.out_type\n",
    "        # the output type of the second convolution layer are 16 regular feature fields\n",
    "        activation2 = nn.FourierELU(self.r2_act, 16, irreps=G.bl_irreps(3), N=16, inplace=True)\n",
    "        out_type = activation2.in_type\n",
    "        self.block2 = nn.SequentialModule(\n",
    "            nn.R2Conv(in_type, out_type, kernel_size=5, padding=2, bias=False),\n",
    "            nn.IIDBatchNorm2d(out_type),\n",
    "            activation2\n",
    "        )\n",
    "        # to reduce the downsampling artifacts, we use a Gaussian smoothing filter\n",
    "        self.pool1 = nn.SequentialModule(\n",
    "            nn.PointwiseAvgPoolAntialiased(out_type, sigma=0.66, stride=2)\n",
    "        )\n",
    "        \n",
    "        # convolution 3\n",
    "        # the old output type is the input type to the next layer\n",
    "        in_type = self.block2.out_type\n",
    "        # the output type of the third convolution layer are 32 regular feature fields\n",
    "        activation3 = nn.FourierELU(self.r2_act, 32, irreps=G.bl_irreps(3), N=16, inplace=True)\n",
    "        out_type = activation3.in_type        \n",
    "        self.block3 = nn.SequentialModule(\n",
    "            nn.R2Conv(in_type, out_type, kernel_size=5, padding=2, bias=False),\n",
    "            nn.IIDBatchNorm2d(out_type),\n",
    "            activation3\n",
    "        )\n",
    "        \n",
    "        # convolution 4\n",
    "        # the old output type is the input type to the next layer\n",
    "        in_type = self.block3.out_type\n",
    "        # the output type of the fourth convolution layer are 64 regular feature fields\n",
    "        activation4 = nn.FourierELU(self.r2_act, 32, irreps=G.bl_irreps(3), N=16, inplace=True)\n",
    "        out_type = activation4.in_type        \n",
    "        self.block4 = nn.SequentialModule(\n",
    "            nn.R2Conv(in_type, out_type, kernel_size=5, padding=2, bias=False),\n",
    "            nn.IIDBatchNorm2d(out_type),\n",
    "            activation4\n",
    "        )\n",
    "        self.pool2 = nn.SequentialModule(\n",
    "            nn.PointwiseAvgPoolAntialiased(out_type, sigma=0.66, stride=2)\n",
    "        )\n",
    "        \n",
    "        # convolution 5\n",
    "        # the old output type is the input type to the next layer\n",
    "        in_type = self.block4.out_type\n",
    "        # the output type of the fifth convolution layer are 96 regular feature fields\n",
    "        activation5 = nn.FourierELU(self.r2_act, 64, irreps=G.bl_irreps(3), N=16, inplace=True)\n",
    "        out_type = activation5.in_type      \n",
    "        self.block5 = nn.SequentialModule(\n",
    "            nn.R2Conv(in_type, out_type, kernel_size=5, padding=2, bias=False),\n",
    "            nn.IIDBatchNorm2d(out_type),\n",
    "            activation5\n",
    "        )\n",
    "        \n",
    "        # convolution 6\n",
    "        # the old output type is the input type to the next layer\n",
    "        in_type = self.block5.out_type\n",
    "        # the output type of the sixth convolution layer are 64 regular feature fields\n",
    "        activation6 = nn.FourierELU(self.r2_act, 64, irreps=G.bl_irreps(3), N=16, inplace=True)\n",
    "        out_type = activation6.in_type  \n",
    "        self.block6 = nn.SequentialModule(\n",
    "            nn.R2Conv(in_type, out_type, kernel_size=5, padding=1, bias=False),\n",
    "            nn.IIDBatchNorm2d(out_type),\n",
    "            activation6\n",
    "        )\n",
    "        self.pool3 = nn.PointwiseAvgPoolAntialiased(out_type, sigma=0.66, stride=1, padding=0)\n",
    "        \n",
    "        # number of output invariant channels\n",
    "        c = 64\n",
    "        \n",
    "        # last 1x1 convolution layer, which maps the regular fields to c=64 invariant scalar fields\n",
    "        # this is essential to provide *invariant* features in the final classification layer\n",
    "        output_invariant_type = nn.FieldType(self.r2_act, c*[self.r2_act.trivial_repr])\n",
    "        self.invariant_map = nn.R2Conv(out_type, output_invariant_type, kernel_size=1, bias=False)\n",
    "        \n",
    "        # Fully Connected classifier\n",
    "        self.fully_net = torch.nn.Sequential(\n",
    "            torch.nn.BatchNorm1d(c),\n",
    "            torch.nn.ELU(inplace=True),\n",
    "            torch.nn.Linear(c, n_classes),\n",
    "        )\n",
    "    \n",
    "    def forward(self, input: torch.Tensor):\n",
    "        # wrap the input tensor in a GeometricTensor\n",
    "        # (associate it with the input type)\n",
    "        x = self.input_type(input)\n",
    "        \n",
    "        # mask out the corners of the input image\n",
    "        x = self.mask(x)\n",
    "\n",
    "        # apply each equivariant block\n",
    "        \n",
    "        # Each layer has an input and an output type\n",
    "        # A layer takes a GeometricTensor in input.\n",
    "        # This tensor needs to be associated with the same representation of the layer's input type\n",
    "        #\n",
    "        # Each layer outputs a new GeometricTensor, associated with the layer's output type.\n",
    "        # As a result, consecutive layers need to have matching input/output types\n",
    "        x = self.block1(x)\n",
    "        x = self.block2(x)\n",
    "        x = self.pool1(x)\n",
    "        \n",
    "        x = self.block3(x)\n",
    "        x = self.block4(x)\n",
    "        x = self.pool2(x)\n",
    "        \n",
    "        x = self.block5(x)\n",
    "        x = self.block6(x)\n",
    "        \n",
    "        # pool over the spatial dimensions\n",
    "        x = self.pool3(x)\n",
    "        \n",
    "        # extract invariant features\n",
    "        x = self.invariant_map(x)\n",
    "\n",
    "        # unwrap the output GeometricTensor\n",
    "        # (take the Pytorch tensor and discard the associated representation)\n",
    "        x = x.tensor\n",
    "        \n",
    "        # classify with the final fully connected layer\n",
    "        x = self.fully_net(x.reshape(x.shape[0], -1))\n",
    "        \n",
    "        return x"
   ]
  },
  {
   "cell_type": "markdown",
   "metadata": {
    "id": "dnv21BvS70rR"
   },
   "source": [
    "#### Equivariance Test before training"
   ]
  },
  {
   "cell_type": "markdown",
   "metadata": {
    "id": "isQ_WYax43Ih"
   },
   "source": [
    "Let's instantiate the model:"
   ]
  },
  {
   "cell_type": "code",
   "execution_count": null,
   "metadata": {
    "id": "NjDhOs_048O6"
   },
   "outputs": [],
   "source": [
    "model = SO2SteerableCNN().to(device)"
   ]
  },
  {
   "cell_type": "markdown",
   "metadata": {
    "id": "WqmtMCdh5HVq"
   },
   "source": [
    "The model is now randomly initialized. \n",
    "Therefore, we do not expect it to produce the right class probabilities.\n",
    "\n",
    "However, the model should still produce the same output for rotated versions of the same image.\n",
    "This is true for rotations by multiples of $\\frac{\\pi}{2}$, but is only approximate for other rotations.\n",
    "\n",
    "Let's test it on a random test image:\n",
    "we feed $N=20$ rotated versions of the first image in the test set and print the output logits of the model for each of them."
   ]
  },
  {
   "cell_type": "code",
   "execution_count": null,
   "metadata": {
    "id": "0sO8ACqbd_GW"
   },
   "outputs": [],
   "source": [
    "def test_model_single_image(model: torch.nn.Module, x: torch.Tensor, N: int = 8):\n",
    "    np.set_printoptions(linewidth=10000)\n",
    "    \n",
    "    x = Image.fromarray(x.cpu().numpy()[0], mode='F')\n",
    "    \n",
    "        \n",
    "    # to reduce interpolation artifacts (e.g. when testing the model on rotated images),\n",
    "    # we upsample an image by a factor of 3, rotate it and finally downsample it again\n",
    "    resize1 = Resize(87) # to upsample\n",
    "    resize2 = Resize(29) # to downsample\n",
    "\n",
    "    totensor = ToTensor()\n",
    "\n",
    "    x = resize1(x)\n",
    "    \n",
    "    # evaluate the `model` on N rotated versions of the input image `x`\n",
    "    model.eval()\n",
    "    \n",
    "    print()\n",
    "    print('##########################################################################################')\n",
    "    header = 'angle  |  ' + '  '.join([\"{:5d}\".format(d) for d in range(10)])\n",
    "    print(header)\n",
    "    with torch.no_grad():\n",
    "        for r in range(N):\n",
    "            x_transformed = totensor(resize2(x.rotate(r*360./N, Image.BILINEAR))).reshape(1, 1, 29, 29)\n",
    "            x_transformed = x_transformed.to(device)\n",
    "\n",
    "            y = model(x_transformed)\n",
    "            y = y.to('cpu').numpy().squeeze()\n",
    "            \n",
    "            angle = r * 360. / N\n",
    "            print(\"{:6.1f} : {}\".format(angle, y))\n",
    "    print('##########################################################################################')\n",
    "    print()\n"
   ]
  },
  {
   "cell_type": "code",
   "execution_count": null,
   "metadata": {
    "colab": {
     "base_uri": "https://localhost:8080/"
    },
    "id": "MMemwcjceUWO",
    "outputId": "df35553d-1a1c-4133-d851-6fbbfd1a7652"
   },
   "outputs": [],
   "source": [
    "# retrieve the first image from the test set\n",
    "x, y = next(iter(raw_mnist_test))\n",
    "\n",
    "# evaluate the model\n",
    "test_model_single_image(model, x, N=20)"
   ]
  },
  {
   "cell_type": "markdown",
   "metadata": {
    "id": "s30uH1m-7S63"
   },
   "source": [
    "The output of the model is already almost invariant but we observe small fluctuations in the outputs.\n",
    "This is the effect of the discretization artifacts (e.g. the pixel grid can not be perfectly rotated by any angle without interpolation) and can not be completely removed."
   ]
  },
  {
   "cell_type": "markdown",
   "metadata": {
    "id": "wLoknbhP77Ps"
   },
   "source": [
    "#### Training the model\n",
    "Let's train the model now.\n",
    "The procedure is the same used to train a normal *PyTorch* architecture:"
   ]
  },
  {
   "cell_type": "code",
   "execution_count": null,
   "metadata": {
    "id": "Dahlyjtr8RgX"
   },
   "outputs": [],
   "source": [
    "# build the training and test function\n",
    "\n",
    "def test(model: torch.nn.Module):\n",
    "    # test over the full rotated test set\n",
    "    total = 0\n",
    "    correct = 0\n",
    "\n",
    "    with torch.no_grad():\n",
    "        model.eval()\n",
    "        for i, (x, t) in enumerate(test_loader):\n",
    "            x = x.to(device)\n",
    "            t = t.to(device)\n",
    "\n",
    "            y = model(x)\n",
    "\n",
    "            _, prediction = torch.max(y.data, 1)\n",
    "            total += t.shape[0]\n",
    "            correct += (prediction == t).sum().item()\n",
    "    return correct/total*100.\n",
    "    \n",
    "\n",
    "def train(model: torch.nn.Module, lr=1e-4, wd=1e-4, checkpoint_path: str = None):\n",
    "    if checkpoint_path is not None:\n",
    "        checkpoint_path = os.path.join(CHECKPOINT_PATH, checkpoint_path)\n",
    "        \n",
    "    if checkpoint_path is not None and os.path.isfile(checkpoint_path):\n",
    "        model.load_state_dict(torch.load(checkpoint_path))\n",
    "        model.eval()\n",
    "        return\n",
    "\n",
    "    loss_function = torch.nn.CrossEntropyLoss()\n",
    "    optimizer = torch.optim.Adam(model.parameters(), lr=lr, weight_decay=wd)\n",
    "\n",
    "    for epoch in tqdm(range(21)):\n",
    "        model.train()\n",
    "        for i, (x, t) in enumerate(train_loader):\n",
    "            optimizer.zero_grad()\n",
    "\n",
    "            x = x.to(device)\n",
    "            t = t.to(device)\n",
    "\n",
    "            y = model(x)\n",
    "\n",
    "            loss = loss_function(y, t)\n",
    "\n",
    "            loss.backward()\n",
    "\n",
    "            optimizer.step()\n",
    "            del x, y, t, loss\n",
    "\n",
    "        if epoch % 10 == 0:\n",
    "            accuracy = test(model)    \n",
    "            print(f\"epoch {epoch} | test accuracy: {accuracy}\")\n",
    "    \n",
    "    if checkpoint_path is not None:\n",
    "        torch.save(model.state_dict(), checkpoint_path)"
   ]
  },
  {
   "cell_type": "markdown",
   "metadata": {
    "id": "1kLJO_KQ8opD"
   },
   "source": [
    "Finally, train the $SO(2)$ equivariant model:"
   ]
  },
  {
   "cell_type": "code",
   "execution_count": null,
   "metadata": {
    "colab": {
     "base_uri": "https://localhost:8080/",
     "height": 901
    },
    "id": "03IyIZpO8kmx",
    "outputId": "24e813d8-a1f2-44f8-c7d8-28186434e302"
   },
   "outputs": [],
   "source": [
    "# set the seed manually for reproducibility\n",
    "torch.manual_seed(42)\n",
    "model = SO2SteerableCNN().to(device)\n",
    "\n",
    "train(model, checkpoint_path=\"steerable_so2-pretrained.ckpt\")\n",
    "\n",
    "accuracy = test(model)    \n",
    "print(f\"Test accuracy: {accuracy}\")"
   ]
  },
  {
   "cell_type": "code",
   "execution_count": null,
   "metadata": {
    "id": "tXeaZPTqECzY"
   },
   "outputs": [],
   "source": [
    "def test_model_rotations(model: torch.nn.Module, N: int = 24, M: int = 2000, checkpoint_path: str = None):\n",
    "    # evaluate the `model` on N rotated versions of the first M images in the test set\n",
    "    \n",
    "    if checkpoint_path is not None:\n",
    "        checkpoint_path = os.path.join(CHECKPOINT_PATH, checkpoint_path)\n",
    "        \n",
    "    if checkpoint_path is not None and os.path.isfile(checkpoint_path):\n",
    "        accuracies = np.load(checkpoint_path)\n",
    "        return accuracies.tolist()\n",
    "    \n",
    "    model.eval()\n",
    "         \n",
    "    # to reduce interpolation artifacts (e.g. when testing the model on rotated images),\n",
    "    # we upsample an image by a factor of 3, rotate it and finally downsample it again\n",
    "    resize1 = Resize(87) # to upsample\n",
    "    resize2 = Resize(29) # to downsample\n",
    "\n",
    "    totensor = ToTensor()\n",
    "\n",
    "    accuracies = []\n",
    "    with torch.no_grad():\n",
    "        model.eval()\n",
    "\n",
    "        for r in tqdm(range(N)):\n",
    "            total = 0\n",
    "            correct = 0\n",
    "\n",
    "            for i in range(M):\n",
    "                x, t = raw_mnist_test[i]\n",
    "\n",
    "                x = Image.fromarray(x.numpy()[0], mode='F')\n",
    "\n",
    "                x = totensor(resize2(resize1(x).rotate(r*360./N, Image.BILINEAR))).reshape(1, 1, 29, 29).to(device)\n",
    "\n",
    "                x = x.to(device)\n",
    "\n",
    "                y = model(x)\n",
    "\n",
    "                _, prediction = torch.max(y.data, 1)\n",
    "                total += 1\n",
    "                correct += (prediction == t).sum().item()\n",
    "          \n",
    "            accuracies.append(correct/total*100.)\n",
    "    \n",
    "    if checkpoint_path is not None:\n",
    "        np.save(checkpoint_path, np.array(accuracies))\n",
    "    \n",
    "    return accuracies"
   ]
  },
  {
   "cell_type": "code",
   "execution_count": null,
   "metadata": {},
   "outputs": [],
   "source": [
    "accs_so2 = test_model_rotations(model, 16, 10000, checkpoint_path=\"steerable_so2-accuracies.npy\")"
   ]
  },
  {
   "cell_type": "code",
   "execution_count": null,
   "metadata": {},
   "outputs": [],
   "source": [
    "# plot the accuracy of as a function of the rotation angle theta applied to the test set\n",
    "fig, ax = plt.subplots(figsize=(10, 6))\n",
    "\n",
    "N = 16\n",
    "\n",
    "xs = [i*2*np.pi / N for i in range(N+1)]\n",
    "plt.plot(xs, accs_so2 + [accs_so2[0]])\n",
    "plt.title('SO(2)-Steerable CNN', fontsize=20)\n",
    "plt.xlabel(r'Test rotation $\\theta \\in [0, 2\\pi)$', fontsize=20)\n",
    "plt.ylabel('Accuracy', fontsize=20)\n",
    "ax.tick_params(axis='both', which='major', labelsize=15)\n",
    "plt.show()"
   ]
  },
  {
   "cell_type": "markdown",
   "metadata": {},
   "source": [
    "Even after training, the model is not perfectly $SO(2)$ equivariant, but we observe the accuracy is rather stable to rotations."
   ]
  },
  {
   "cell_type": "markdown",
   "metadata": {
    "id": "3WWv780dC5_R"
   },
   "source": [
    "#### $C_4$ equivariant architecture\n",
    "\n",
    "For comparison, let's build a similar architecture equivariant only to $N=4$ rotations."
   ]
  },
  {
   "cell_type": "code",
   "execution_count": null,
   "metadata": {
    "id": "g17NYfmdDC57"
   },
   "outputs": [],
   "source": [
    "class CNSteerableCNN(torch.nn.Module):\n",
    "    \n",
    "    def __init__(self, n_classes=10):\n",
    "        \n",
    "        super(CNSteerableCNN, self).__init__()\n",
    "        \n",
    "        # the model is equivariant to rotations by multiples of 2pi/N\n",
    "        self.r2_act = gspaces.rot2dOnR2(N=4)\n",
    "        \n",
    "        # the input image is a scalar field, corresponding to the trivial representation\n",
    "        in_type = nn.FieldType(self.r2_act, [self.r2_act.trivial_repr])\n",
    "        \n",
    "        # we store the input type for wrapping the images into a geometric tensor during the forward pass\n",
    "        self.input_type = in_type\n",
    "        \n",
    "        # We need to mask the input image since the corners are moved outside the grid under rotations\n",
    "        self.mask = nn.MaskModule(in_type, 29, margin=1)\n",
    "\n",
    "        # convolution 1\n",
    "        # first we build the non-linear layer, which also constructs the right feature type\n",
    "        # we choose 8 feature fields, each transforming under the regular representation of C_4\n",
    "        activation1 = nn.ELU(nn.FieldType(self.r2_act, 8*[self.r2_act.regular_repr]), inplace=True)\n",
    "        out_type = activation1.in_type\n",
    "        self.block1 = nn.SequentialModule(\n",
    "            nn.R2Conv(in_type, out_type, kernel_size=7, padding=1, bias=False),\n",
    "            nn.IIDBatchNorm2d(out_type),\n",
    "            activation1,\n",
    "        )\n",
    "        \n",
    "        # convolution 2\n",
    "        # the old output type is the input type to the next layer\n",
    "        in_type = self.block1.out_type\n",
    "        # the output type of the second convolution layer are 16 regular feature fields\n",
    "        activation2 = nn.ELU(nn.FieldType(self.r2_act, 16*[self.r2_act.regular_repr]), inplace=True)\n",
    "        out_type = activation2.in_type\n",
    "        self.block2 = nn.SequentialModule(\n",
    "            nn.R2Conv(in_type, out_type, kernel_size=5, padding=2, bias=False),\n",
    "            nn.IIDBatchNorm2d(out_type),\n",
    "            activation2\n",
    "        )\n",
    "        self.pool1 = nn.SequentialModule(\n",
    "            nn.PointwiseAvgPoolAntialiased(out_type, sigma=0.66, stride=2)\n",
    "        )\n",
    "        \n",
    "        # convolution 3\n",
    "        # the old output type is the input type to the next layer\n",
    "        in_type = self.block2.out_type\n",
    "        # the output type of the third convolution layer are 32 regular feature fields\n",
    "        activation3 = nn.ELU(nn.FieldType(self.r2_act, 32*[self.r2_act.regular_repr]), inplace=True)\n",
    "        out_type = activation3.in_type        \n",
    "        self.block3 = nn.SequentialModule(\n",
    "            nn.R2Conv(in_type, out_type, kernel_size=5, padding=2, bias=False),\n",
    "            nn.IIDBatchNorm2d(out_type),\n",
    "            activation3\n",
    "        )\n",
    "        \n",
    "        # convolution 4\n",
    "        # the old output type is the input type to the next layer\n",
    "        in_type = self.block3.out_type\n",
    "        # the output type of the fourth convolution layer are 32 regular feature fields\n",
    "        activation4 = nn.ELU(nn.FieldType(self.r2_act, 32*[self.r2_act.regular_repr]), inplace=True)\n",
    "        out_type = activation4.in_type        \n",
    "        self.block4 = nn.SequentialModule(\n",
    "            nn.R2Conv(in_type, out_type, kernel_size=5, padding=2, bias=False),\n",
    "            nn.IIDBatchNorm2d(out_type),\n",
    "            activation4\n",
    "        )\n",
    "        self.pool2 = nn.SequentialModule(\n",
    "            nn.PointwiseAvgPoolAntialiased(out_type, sigma=0.66, stride=2)\n",
    "        )\n",
    "        \n",
    "        # convolution 5\n",
    "        # the old output type is the input type to the next layer\n",
    "        in_type = self.block4.out_type\n",
    "        # the output type of the fifth convolution layer are 64 regular feature fields\n",
    "        activation5 = nn.ELU(nn.FieldType(self.r2_act, 64*[self.r2_act.regular_repr]), inplace=True)\n",
    "        out_type = activation5.in_type      \n",
    "        self.block5 = nn.SequentialModule(\n",
    "            nn.R2Conv(in_type, out_type, kernel_size=5, padding=2, bias=False),\n",
    "            nn.IIDBatchNorm2d(out_type),\n",
    "            activation5\n",
    "        )\n",
    "        \n",
    "        # convolution 6\n",
    "        # the old output type is the input type to the next layer\n",
    "        in_type = self.block5.out_type\n",
    "        # the output type of the sixth convolution layer are 64 regular feature fields\n",
    "        activation6 = nn.ELU(nn.FieldType(self.r2_act, 64*[self.r2_act.regular_repr]), inplace=True)\n",
    "        out_type = activation6.in_type  \n",
    "        self.block6 = nn.SequentialModule(\n",
    "            nn.R2Conv(in_type, out_type, kernel_size=5, padding=1, bias=False),\n",
    "            nn.IIDBatchNorm2d(out_type),\n",
    "            activation6\n",
    "        )\n",
    "        self.pool3 = nn.PointwiseAvgPoolAntialiased(out_type, sigma=0.66, stride=1, padding=0)\n",
    "        \n",
    "        # number of output invariant channels\n",
    "        c = 64\n",
    "\n",
    "        output_invariant_type = nn.FieldType(self.r2_act, c*[self.r2_act.trivial_repr])\n",
    "        self.invariant_map = nn.R2Conv(out_type, output_invariant_type, kernel_size=1, bias=False)\n",
    "        \n",
    "        \n",
    "        # Fully Connected classifier\n",
    "        self.fully_net = torch.nn.Sequential(\n",
    "            torch.nn.BatchNorm1d(c),\n",
    "            torch.nn.ELU(inplace=True),\n",
    "            torch.nn.Linear(c, n_classes),\n",
    "        )\n",
    "    \n",
    "    def forward(self, input: torch.Tensor):\n",
    "        # wrap the input tensor in a GeometricTensor\n",
    "        # (associate it with the input type)\n",
    "        x = self.input_type(input)\n",
    "        \n",
    "        # mask out the corners of the input image\n",
    "        x = self.mask(x)\n",
    "\n",
    "        # apply each equivariant block\n",
    "        \n",
    "        # Each layer has an input and an output type\n",
    "        # A layer takes a GeometricTensor in input.\n",
    "        # This tensor needs to be associated with the same representation of the layer's input type\n",
    "        #\n",
    "        # Each layer outputs a new GeometricTensor, associated with the layer's output type.\n",
    "        # As a result, consecutive layers need to have matching input/output types\n",
    "        x = self.block1(x)\n",
    "        x = self.block2(x)\n",
    "        x = self.pool1(x)\n",
    "        \n",
    "        x = self.block3(x)\n",
    "        x = self.block4(x)\n",
    "        x = self.pool2(x)\n",
    "        \n",
    "        x = self.block5(x)\n",
    "        x = self.block6(x)\n",
    "        \n",
    "        # pool over the spatial dimensions\n",
    "        x = self.pool3(x)\n",
    "        \n",
    "        # extract invariant features\n",
    "        x = self.invariant_map(x)\n",
    "\n",
    "        # unwrap the output GeometricTensor\n",
    "        # (take the Pytorch tensor and discard the associated representation)\n",
    "        x = x.tensor\n",
    "        \n",
    "        # classify with the final fully connected layer\n",
    "        x = self.fully_net(x.reshape(x.shape[0], -1))\n",
    "        \n",
    "        return x"
   ]
  },
  {
   "cell_type": "markdown",
   "metadata": {},
   "source": [
    "Instantiate and train the $C_4$ equivariant model:"
   ]
  },
  {
   "cell_type": "code",
   "execution_count": null,
   "metadata": {
    "scrolled": true
   },
   "outputs": [],
   "source": [
    "torch.manual_seed(42)\n",
    "model_c4 = CNSteerableCNN().to(device)\n",
    "train(model_c4, checkpoint_path=\"steerable_c4-pretrained.ckpt\")\n",
    "\n",
    "accuracy = test(model_c4)    \n",
    "print(f\"Test accuracy: {accuracy}\")\n",
    "\n",
    "accs_c4 = test_model_rotations(model_c4, 16, 10000, checkpoint_path=\"steerable_c4-accuracies.npy\")"
   ]
  },
  {
   "cell_type": "markdown",
   "metadata": {},
   "source": [
    "Finally, let's compare the performance of both models on the rotated test sets:"
   ]
  },
  {
   "cell_type": "code",
   "execution_count": null,
   "metadata": {},
   "outputs": [],
   "source": [
    "# plot the accuracy of as a function of the rotation angle theta applied to the test set\n",
    "fig, ax = plt.subplots(figsize=(10, 6))\n",
    "\n",
    "N=16\n",
    "\n",
    "xs = [i*2*np.pi / N for i in range(N+1)]\n",
    "plt.plot(xs, accs_so2 + [accs_so2[0]], label=r'$SO(2)$-Steerable CNN')\n",
    "plt.plot(xs, accs_c4 + [accs_c4[0]], label=r'$C_4$-Steerable CNN')\n",
    "plt.title(r'$C_4$ vs $SO(2)$ Steerable CNNs', fontsize=20)\n",
    "\n",
    "plt.xlabel(r'Test rotation ($\\theta \\in [0, 2\\pi)$)', fontsize=20)\n",
    "plt.ylabel('Accuracy', fontsize=20)\n",
    "ax.tick_params(axis='both', which='major', labelsize=15)\n",
    "plt.legend(fontsize=20)\n",
    "plt.show()"
   ]
  },
  {
   "cell_type": "markdown",
   "metadata": {},
   "source": [
    "While perfect equivariance to $SO(2)$ is not achievable due to the discretizations, the $SO(2)$ equivariant architecture is more stable over the rotations of the test set than the $C_4$ model.\n",
    "Moreover, since $C_4$ is the only perfect symmetry of the pixel grid and since $C_4 < SO(2)$, the $SO(2)$ equivariant architecture is also perfectly equivariant to rotations by multiples of $\\pi/2$."
   ]
  },
  {
   "cell_type": "markdown",
   "metadata": {},
   "source": [
    "## Conclusion\n",
    "\n",
    "In this tutorial, you first leart about *group representation theory* and the *Fourier Transform* over compact groups.\n",
    "These are the mathematical tools used to formalize Steerable CNNs.\n",
    "\n",
    "In the second part of this tutorial, you learnt about *steerable feature fields* and *steerable CNNs*.\n",
    "In particular, the previously defined  Fourier transform allowed us to build a steerable CNN which is equivalent to a Group-Convolutional Neural Network (GCNN) equivariant to translations and the continuous group $G=SO(2)$ of rotations.\n",
    "\n",
    "In our steerable CNNs, we mostly leveraged the *regular representation* of the group $G$, but the framework of steerable CNNs allows for a variety of representations.\n",
    "If you are interested in knowing more about steerable CNNs, this is a (non-exhaustive) list of relevant works you can check out:\n",
    "\n",
    "- [Steerable CNNs](https://arxiv.org/abs/1612.08498)\n",
    "- [Harmonic Networks: Deep Translation and Rotation Equivariance](https://arxiv.org/abs/1612.04642)\n",
    "- [3D Steerable CNNs](https://arxiv.org/abs/1807.02547)\n",
    "- [Tensor Field Networks](https://arxiv.org/abs/1802.08219)\n",
    "- [A General Theory of Equivariant CNNs on Homogeneous Spaces](https://arxiv.org/abs/1811.02017)\n",
    "- [Cormorant: Covariant Molecular Neural Networks](https://arxiv.org/abs/1906.04015)\n",
    "- [General E(2)-Equivariant Steerable CNNs](https://arxiv.org/abs/1911.08251)\n",
    "- [A Program to Build E(N)-Equivariant Steerable CNNs](https://openreview.net/forum?id=WE4qe9xlnQw)"
   ]
  }
 ],
 "metadata": {
  "accelerator": "GPU",
  "colab": {
   "collapsed_sections": [
    "YajlOyducQLT",
    "JNMR5pQGcQLf",
    "rC2C598ScQLi",
    "GJ-VvAUmcQLr"
   ],
   "name": "Steerable CNNs.ipynb",
   "provenance": []
  },
  "kernelspec": {
   "display_name": "Python 3 (ipykernel)",
   "language": "python",
   "name": "python3"
  },
  "language_info": {
   "codemirror_mode": {
    "name": "ipython",
    "version": 3
   },
   "file_extension": ".py",
   "mimetype": "text/x-python",
   "name": "python",
   "nbconvert_exporter": "python",
   "pygments_lexer": "ipython3",
   "version": "3.11.5"
  }
 },
 "nbformat": 4,
 "nbformat_minor": 4
}
